{
 "cells": [
  {
   "cell_type": "markdown",
   "metadata": {},
   "source": [
    "# UNN"
   ]
  },
  {
   "cell_type": "markdown",
   "metadata": {},
   "source": [
    "## Machine learning lab"
   ]
  },
  {
   "cell_type": "markdown",
   "metadata": {},
   "source": [
    "Этот набор данных для Pokemon-ов, который включает в себя:\n",
    "1. Name: Название каждого покемона\n",
    "2. Type 1: у каждого покемона есть тип, который определяет бессилие / сопротивление атакам\n",
    "3. Type 2: некоторые покемоны имеют двойной тип\n",
    "4. базовую статистику:\n",
    "\n",
    "    a) Total: сумма всех статистических данных, которые появляются после этого, общее руководство о том, насколько сильным является покемон\n",
    "    \n",
    "    b) HP: очки здоровья или здоровье, определяет, сколько урона может покемон преодолеть до обморока\n",
    "    \n",
    "    c) Attack: базовый модификатор для обычных атак (например, Scratch, Punch)\n",
    "    \n",
    "    d) Defense: сопротивление базовому урону от обычных атак\n",
    "    \n",
    "    e) SP Atk: специальная атака, базовый модификатор для специальных атак (например, огонь, пузырь)\n",
    "    \n",
    "    f) SP Def: сопротивление базового урона от специальных атак\n",
    "    \n",
    "    g) Speed: скорость атаки\n",
    "    \n",
    "    \n",
    "5. так же для кажого покемона указано:\n",
    "\n",
    "    a) поколение (generation)\n",
    "    \n",
    "    b) легендарность (legendary)"
   ]
  },
  {
   "cell_type": "code",
   "execution_count": 1,
   "metadata": {},
   "outputs": [],
   "source": [
    "import numpy as np\n",
    "import matplotlib.pyplot as plt\n",
    "import pandas as pd\n",
    "import seaborn as sbn\n",
    "import csv as cs\n",
    "import matplotlib.pyplot as plt\n",
    "import matplotlib.patches as ptc\n",
    "%matplotlib inline"
   ]
  },
  {
   "cell_type": "markdown",
   "metadata": {},
   "source": [
    "### Загрузка данных"
   ]
  },
  {
   "cell_type": "code",
   "execution_count": 2,
   "metadata": {},
   "outputs": [
    {
     "data": {
      "text/plain": [
       "pandas.core.frame.DataFrame"
      ]
     },
     "execution_count": 2,
     "metadata": {},
     "output_type": "execute_result"
    }
   ],
   "source": [
    "dataInfoOrig = pd.read_csv('pokemon.csv', sep = ',', engine = 'python')\n",
    "dataInfo     = pd.read_csv('pokemon.csv', sep = ',', engine = 'python')\n",
    "type(dataInfoOrig)"
   ]
  },
  {
   "cell_type": "code",
   "execution_count": 3,
   "metadata": {},
   "outputs": [
    {
     "data": {
      "text/html": [
       "<div>\n",
       "<style scoped>\n",
       "    .dataframe tbody tr th:only-of-type {\n",
       "        vertical-align: middle;\n",
       "    }\n",
       "\n",
       "    .dataframe tbody tr th {\n",
       "        vertical-align: top;\n",
       "    }\n",
       "\n",
       "    .dataframe thead th {\n",
       "        text-align: right;\n",
       "    }\n",
       "</style>\n",
       "<table border=\"1\" class=\"dataframe\">\n",
       "  <thead>\n",
       "    <tr style=\"text-align: right;\">\n",
       "      <th></th>\n",
       "      <th>Name</th>\n",
       "      <th>Type_1</th>\n",
       "      <th>Type_2</th>\n",
       "      <th>Total</th>\n",
       "      <th>HP</th>\n",
       "      <th>Attack</th>\n",
       "      <th>Defense</th>\n",
       "      <th>Sp_Atk</th>\n",
       "      <th>Sp_Def</th>\n",
       "      <th>Speed</th>\n",
       "      <th>Generation</th>\n",
       "      <th>Legendary</th>\n",
       "    </tr>\n",
       "  </thead>\n",
       "  <tbody>\n",
       "    <tr>\n",
       "      <th>0</th>\n",
       "      <td>Bulbasaur</td>\n",
       "      <td>Grass</td>\n",
       "      <td>Poison</td>\n",
       "      <td>318</td>\n",
       "      <td>45</td>\n",
       "      <td>49</td>\n",
       "      <td>49</td>\n",
       "      <td>65</td>\n",
       "      <td>65</td>\n",
       "      <td>45</td>\n",
       "      <td>1</td>\n",
       "      <td>False</td>\n",
       "    </tr>\n",
       "    <tr>\n",
       "      <th>1</th>\n",
       "      <td>Ivysaur</td>\n",
       "      <td>Grass</td>\n",
       "      <td>Poison</td>\n",
       "      <td>405</td>\n",
       "      <td>60</td>\n",
       "      <td>62</td>\n",
       "      <td>63</td>\n",
       "      <td>80</td>\n",
       "      <td>80</td>\n",
       "      <td>60</td>\n",
       "      <td>1</td>\n",
       "      <td>False</td>\n",
       "    </tr>\n",
       "    <tr>\n",
       "      <th>2</th>\n",
       "      <td>Venusaur</td>\n",
       "      <td>Grass</td>\n",
       "      <td>Poison</td>\n",
       "      <td>525</td>\n",
       "      <td>80</td>\n",
       "      <td>82</td>\n",
       "      <td>83</td>\n",
       "      <td>100</td>\n",
       "      <td>100</td>\n",
       "      <td>80</td>\n",
       "      <td>1</td>\n",
       "      <td>False</td>\n",
       "    </tr>\n",
       "    <tr>\n",
       "      <th>3</th>\n",
       "      <td>VenusaurMega Venusaur</td>\n",
       "      <td>Grass</td>\n",
       "      <td>Poison</td>\n",
       "      <td>625</td>\n",
       "      <td>80</td>\n",
       "      <td>100</td>\n",
       "      <td>123</td>\n",
       "      <td>122</td>\n",
       "      <td>120</td>\n",
       "      <td>80</td>\n",
       "      <td>1</td>\n",
       "      <td>False</td>\n",
       "    </tr>\n",
       "    <tr>\n",
       "      <th>4</th>\n",
       "      <td>Charmander</td>\n",
       "      <td>Fire</td>\n",
       "      <td>NaN</td>\n",
       "      <td>309</td>\n",
       "      <td>39</td>\n",
       "      <td>52</td>\n",
       "      <td>43</td>\n",
       "      <td>60</td>\n",
       "      <td>50</td>\n",
       "      <td>65</td>\n",
       "      <td>1</td>\n",
       "      <td>False</td>\n",
       "    </tr>\n",
       "    <tr>\n",
       "      <th>5</th>\n",
       "      <td>Charmeleon</td>\n",
       "      <td>Fire</td>\n",
       "      <td>NaN</td>\n",
       "      <td>405</td>\n",
       "      <td>58</td>\n",
       "      <td>64</td>\n",
       "      <td>58</td>\n",
       "      <td>80</td>\n",
       "      <td>65</td>\n",
       "      <td>80</td>\n",
       "      <td>1</td>\n",
       "      <td>False</td>\n",
       "    </tr>\n",
       "    <tr>\n",
       "      <th>6</th>\n",
       "      <td>Charizard</td>\n",
       "      <td>Fire</td>\n",
       "      <td>Flying</td>\n",
       "      <td>534</td>\n",
       "      <td>78</td>\n",
       "      <td>84</td>\n",
       "      <td>78</td>\n",
       "      <td>109</td>\n",
       "      <td>85</td>\n",
       "      <td>100</td>\n",
       "      <td>1</td>\n",
       "      <td>False</td>\n",
       "    </tr>\n",
       "    <tr>\n",
       "      <th>7</th>\n",
       "      <td>CharizardMega Charizard X</td>\n",
       "      <td>Fire</td>\n",
       "      <td>Dragon</td>\n",
       "      <td>634</td>\n",
       "      <td>78</td>\n",
       "      <td>130</td>\n",
       "      <td>111</td>\n",
       "      <td>130</td>\n",
       "      <td>85</td>\n",
       "      <td>100</td>\n",
       "      <td>1</td>\n",
       "      <td>False</td>\n",
       "    </tr>\n",
       "    <tr>\n",
       "      <th>8</th>\n",
       "      <td>CharizardMega Charizard Y</td>\n",
       "      <td>Fire</td>\n",
       "      <td>Flying</td>\n",
       "      <td>634</td>\n",
       "      <td>78</td>\n",
       "      <td>104</td>\n",
       "      <td>78</td>\n",
       "      <td>159</td>\n",
       "      <td>115</td>\n",
       "      <td>100</td>\n",
       "      <td>1</td>\n",
       "      <td>False</td>\n",
       "    </tr>\n",
       "    <tr>\n",
       "      <th>9</th>\n",
       "      <td>Squirtle</td>\n",
       "      <td>Water</td>\n",
       "      <td>NaN</td>\n",
       "      <td>314</td>\n",
       "      <td>44</td>\n",
       "      <td>48</td>\n",
       "      <td>65</td>\n",
       "      <td>50</td>\n",
       "      <td>64</td>\n",
       "      <td>43</td>\n",
       "      <td>1</td>\n",
       "      <td>False</td>\n",
       "    </tr>\n",
       "    <tr>\n",
       "      <th>10</th>\n",
       "      <td>Wartortle</td>\n",
       "      <td>Water</td>\n",
       "      <td>NaN</td>\n",
       "      <td>405</td>\n",
       "      <td>59</td>\n",
       "      <td>63</td>\n",
       "      <td>80</td>\n",
       "      <td>65</td>\n",
       "      <td>80</td>\n",
       "      <td>58</td>\n",
       "      <td>1</td>\n",
       "      <td>False</td>\n",
       "    </tr>\n",
       "    <tr>\n",
       "      <th>11</th>\n",
       "      <td>Blastoise</td>\n",
       "      <td>Water</td>\n",
       "      <td>NaN</td>\n",
       "      <td>530</td>\n",
       "      <td>79</td>\n",
       "      <td>83</td>\n",
       "      <td>100</td>\n",
       "      <td>85</td>\n",
       "      <td>105</td>\n",
       "      <td>78</td>\n",
       "      <td>1</td>\n",
       "      <td>False</td>\n",
       "    </tr>\n",
       "    <tr>\n",
       "      <th>12</th>\n",
       "      <td>BlastoiseMega Blastoise</td>\n",
       "      <td>Water</td>\n",
       "      <td>NaN</td>\n",
       "      <td>630</td>\n",
       "      <td>79</td>\n",
       "      <td>103</td>\n",
       "      <td>120</td>\n",
       "      <td>135</td>\n",
       "      <td>115</td>\n",
       "      <td>78</td>\n",
       "      <td>1</td>\n",
       "      <td>False</td>\n",
       "    </tr>\n",
       "    <tr>\n",
       "      <th>13</th>\n",
       "      <td>Caterpie</td>\n",
       "      <td>Bug</td>\n",
       "      <td>NaN</td>\n",
       "      <td>195</td>\n",
       "      <td>45</td>\n",
       "      <td>30</td>\n",
       "      <td>35</td>\n",
       "      <td>20</td>\n",
       "      <td>20</td>\n",
       "      <td>45</td>\n",
       "      <td>1</td>\n",
       "      <td>False</td>\n",
       "    </tr>\n",
       "    <tr>\n",
       "      <th>14</th>\n",
       "      <td>Metapod</td>\n",
       "      <td>Bug</td>\n",
       "      <td>NaN</td>\n",
       "      <td>205</td>\n",
       "      <td>50</td>\n",
       "      <td>20</td>\n",
       "      <td>55</td>\n",
       "      <td>25</td>\n",
       "      <td>25</td>\n",
       "      <td>30</td>\n",
       "      <td>1</td>\n",
       "      <td>False</td>\n",
       "    </tr>\n",
       "    <tr>\n",
       "      <th>15</th>\n",
       "      <td>Butterfree</td>\n",
       "      <td>Bug</td>\n",
       "      <td>Flying</td>\n",
       "      <td>395</td>\n",
       "      <td>60</td>\n",
       "      <td>45</td>\n",
       "      <td>50</td>\n",
       "      <td>90</td>\n",
       "      <td>80</td>\n",
       "      <td>70</td>\n",
       "      <td>1</td>\n",
       "      <td>False</td>\n",
       "    </tr>\n",
       "    <tr>\n",
       "      <th>16</th>\n",
       "      <td>Weedle</td>\n",
       "      <td>Bug</td>\n",
       "      <td>Poison</td>\n",
       "      <td>195</td>\n",
       "      <td>40</td>\n",
       "      <td>35</td>\n",
       "      <td>30</td>\n",
       "      <td>20</td>\n",
       "      <td>20</td>\n",
       "      <td>50</td>\n",
       "      <td>1</td>\n",
       "      <td>False</td>\n",
       "    </tr>\n",
       "    <tr>\n",
       "      <th>17</th>\n",
       "      <td>Kakuna</td>\n",
       "      <td>Bug</td>\n",
       "      <td>Poison</td>\n",
       "      <td>205</td>\n",
       "      <td>45</td>\n",
       "      <td>25</td>\n",
       "      <td>50</td>\n",
       "      <td>25</td>\n",
       "      <td>25</td>\n",
       "      <td>35</td>\n",
       "      <td>1</td>\n",
       "      <td>False</td>\n",
       "    </tr>\n",
       "    <tr>\n",
       "      <th>18</th>\n",
       "      <td>Beedrill</td>\n",
       "      <td>Bug</td>\n",
       "      <td>Poison</td>\n",
       "      <td>395</td>\n",
       "      <td>65</td>\n",
       "      <td>90</td>\n",
       "      <td>40</td>\n",
       "      <td>45</td>\n",
       "      <td>80</td>\n",
       "      <td>75</td>\n",
       "      <td>1</td>\n",
       "      <td>False</td>\n",
       "    </tr>\n",
       "    <tr>\n",
       "      <th>19</th>\n",
       "      <td>BeedrillMega Beedrill</td>\n",
       "      <td>Bug</td>\n",
       "      <td>Poison</td>\n",
       "      <td>495</td>\n",
       "      <td>65</td>\n",
       "      <td>150</td>\n",
       "      <td>40</td>\n",
       "      <td>15</td>\n",
       "      <td>80</td>\n",
       "      <td>145</td>\n",
       "      <td>1</td>\n",
       "      <td>False</td>\n",
       "    </tr>\n",
       "    <tr>\n",
       "      <th>20</th>\n",
       "      <td>Pidgey</td>\n",
       "      <td>Normal</td>\n",
       "      <td>Flying</td>\n",
       "      <td>251</td>\n",
       "      <td>40</td>\n",
       "      <td>45</td>\n",
       "      <td>40</td>\n",
       "      <td>35</td>\n",
       "      <td>35</td>\n",
       "      <td>56</td>\n",
       "      <td>1</td>\n",
       "      <td>False</td>\n",
       "    </tr>\n",
       "    <tr>\n",
       "      <th>21</th>\n",
       "      <td>Pidgeotto</td>\n",
       "      <td>Normal</td>\n",
       "      <td>Flying</td>\n",
       "      <td>349</td>\n",
       "      <td>63</td>\n",
       "      <td>60</td>\n",
       "      <td>55</td>\n",
       "      <td>50</td>\n",
       "      <td>50</td>\n",
       "      <td>71</td>\n",
       "      <td>1</td>\n",
       "      <td>False</td>\n",
       "    </tr>\n",
       "    <tr>\n",
       "      <th>22</th>\n",
       "      <td>Pidgeot</td>\n",
       "      <td>Normal</td>\n",
       "      <td>Flying</td>\n",
       "      <td>479</td>\n",
       "      <td>83</td>\n",
       "      <td>80</td>\n",
       "      <td>75</td>\n",
       "      <td>70</td>\n",
       "      <td>70</td>\n",
       "      <td>101</td>\n",
       "      <td>1</td>\n",
       "      <td>False</td>\n",
       "    </tr>\n",
       "    <tr>\n",
       "      <th>23</th>\n",
       "      <td>PidgeotMega Pidgeot</td>\n",
       "      <td>Normal</td>\n",
       "      <td>Flying</td>\n",
       "      <td>579</td>\n",
       "      <td>83</td>\n",
       "      <td>80</td>\n",
       "      <td>80</td>\n",
       "      <td>135</td>\n",
       "      <td>80</td>\n",
       "      <td>121</td>\n",
       "      <td>1</td>\n",
       "      <td>False</td>\n",
       "    </tr>\n",
       "    <tr>\n",
       "      <th>24</th>\n",
       "      <td>Rattata</td>\n",
       "      <td>Normal</td>\n",
       "      <td>NaN</td>\n",
       "      <td>253</td>\n",
       "      <td>30</td>\n",
       "      <td>56</td>\n",
       "      <td>35</td>\n",
       "      <td>25</td>\n",
       "      <td>35</td>\n",
       "      <td>72</td>\n",
       "      <td>1</td>\n",
       "      <td>False</td>\n",
       "    </tr>\n",
       "    <tr>\n",
       "      <th>25</th>\n",
       "      <td>Raticate</td>\n",
       "      <td>Normal</td>\n",
       "      <td>NaN</td>\n",
       "      <td>413</td>\n",
       "      <td>55</td>\n",
       "      <td>81</td>\n",
       "      <td>60</td>\n",
       "      <td>50</td>\n",
       "      <td>70</td>\n",
       "      <td>97</td>\n",
       "      <td>1</td>\n",
       "      <td>False</td>\n",
       "    </tr>\n",
       "    <tr>\n",
       "      <th>26</th>\n",
       "      <td>Spearow</td>\n",
       "      <td>Normal</td>\n",
       "      <td>Flying</td>\n",
       "      <td>262</td>\n",
       "      <td>40</td>\n",
       "      <td>60</td>\n",
       "      <td>30</td>\n",
       "      <td>31</td>\n",
       "      <td>31</td>\n",
       "      <td>70</td>\n",
       "      <td>1</td>\n",
       "      <td>False</td>\n",
       "    </tr>\n",
       "    <tr>\n",
       "      <th>27</th>\n",
       "      <td>Fearow</td>\n",
       "      <td>Normal</td>\n",
       "      <td>Flying</td>\n",
       "      <td>442</td>\n",
       "      <td>65</td>\n",
       "      <td>90</td>\n",
       "      <td>65</td>\n",
       "      <td>61</td>\n",
       "      <td>61</td>\n",
       "      <td>100</td>\n",
       "      <td>1</td>\n",
       "      <td>False</td>\n",
       "    </tr>\n",
       "    <tr>\n",
       "      <th>28</th>\n",
       "      <td>Ekans</td>\n",
       "      <td>Poison</td>\n",
       "      <td>NaN</td>\n",
       "      <td>288</td>\n",
       "      <td>35</td>\n",
       "      <td>60</td>\n",
       "      <td>44</td>\n",
       "      <td>40</td>\n",
       "      <td>54</td>\n",
       "      <td>55</td>\n",
       "      <td>1</td>\n",
       "      <td>False</td>\n",
       "    </tr>\n",
       "    <tr>\n",
       "      <th>29</th>\n",
       "      <td>Arbok</td>\n",
       "      <td>Poison</td>\n",
       "      <td>NaN</td>\n",
       "      <td>438</td>\n",
       "      <td>60</td>\n",
       "      <td>85</td>\n",
       "      <td>69</td>\n",
       "      <td>65</td>\n",
       "      <td>79</td>\n",
       "      <td>80</td>\n",
       "      <td>1</td>\n",
       "      <td>False</td>\n",
       "    </tr>\n",
       "    <tr>\n",
       "      <th>...</th>\n",
       "      <td>...</td>\n",
       "      <td>...</td>\n",
       "      <td>...</td>\n",
       "      <td>...</td>\n",
       "      <td>...</td>\n",
       "      <td>...</td>\n",
       "      <td>...</td>\n",
       "      <td>...</td>\n",
       "      <td>...</td>\n",
       "      <td>...</td>\n",
       "      <td>...</td>\n",
       "      <td>...</td>\n",
       "    </tr>\n",
       "    <tr>\n",
       "      <th>770</th>\n",
       "      <td>Sylveon</td>\n",
       "      <td>Fairy</td>\n",
       "      <td>NaN</td>\n",
       "      <td>525</td>\n",
       "      <td>95</td>\n",
       "      <td>65</td>\n",
       "      <td>65</td>\n",
       "      <td>110</td>\n",
       "      <td>130</td>\n",
       "      <td>60</td>\n",
       "      <td>6</td>\n",
       "      <td>False</td>\n",
       "    </tr>\n",
       "    <tr>\n",
       "      <th>771</th>\n",
       "      <td>Hawlucha</td>\n",
       "      <td>Fighting</td>\n",
       "      <td>Flying</td>\n",
       "      <td>500</td>\n",
       "      <td>78</td>\n",
       "      <td>92</td>\n",
       "      <td>75</td>\n",
       "      <td>74</td>\n",
       "      <td>63</td>\n",
       "      <td>118</td>\n",
       "      <td>6</td>\n",
       "      <td>False</td>\n",
       "    </tr>\n",
       "    <tr>\n",
       "      <th>772</th>\n",
       "      <td>Dedenne</td>\n",
       "      <td>Electric</td>\n",
       "      <td>Fairy</td>\n",
       "      <td>431</td>\n",
       "      <td>67</td>\n",
       "      <td>58</td>\n",
       "      <td>57</td>\n",
       "      <td>81</td>\n",
       "      <td>67</td>\n",
       "      <td>101</td>\n",
       "      <td>6</td>\n",
       "      <td>False</td>\n",
       "    </tr>\n",
       "    <tr>\n",
       "      <th>773</th>\n",
       "      <td>Carbink</td>\n",
       "      <td>Rock</td>\n",
       "      <td>Fairy</td>\n",
       "      <td>500</td>\n",
       "      <td>50</td>\n",
       "      <td>50</td>\n",
       "      <td>150</td>\n",
       "      <td>50</td>\n",
       "      <td>150</td>\n",
       "      <td>50</td>\n",
       "      <td>6</td>\n",
       "      <td>False</td>\n",
       "    </tr>\n",
       "    <tr>\n",
       "      <th>774</th>\n",
       "      <td>Goomy</td>\n",
       "      <td>Dragon</td>\n",
       "      <td>NaN</td>\n",
       "      <td>300</td>\n",
       "      <td>45</td>\n",
       "      <td>50</td>\n",
       "      <td>35</td>\n",
       "      <td>55</td>\n",
       "      <td>75</td>\n",
       "      <td>40</td>\n",
       "      <td>6</td>\n",
       "      <td>False</td>\n",
       "    </tr>\n",
       "    <tr>\n",
       "      <th>775</th>\n",
       "      <td>Sliggoo</td>\n",
       "      <td>Dragon</td>\n",
       "      <td>NaN</td>\n",
       "      <td>452</td>\n",
       "      <td>68</td>\n",
       "      <td>75</td>\n",
       "      <td>53</td>\n",
       "      <td>83</td>\n",
       "      <td>113</td>\n",
       "      <td>60</td>\n",
       "      <td>6</td>\n",
       "      <td>False</td>\n",
       "    </tr>\n",
       "    <tr>\n",
       "      <th>776</th>\n",
       "      <td>Goodra</td>\n",
       "      <td>Dragon</td>\n",
       "      <td>NaN</td>\n",
       "      <td>600</td>\n",
       "      <td>90</td>\n",
       "      <td>100</td>\n",
       "      <td>70</td>\n",
       "      <td>110</td>\n",
       "      <td>150</td>\n",
       "      <td>80</td>\n",
       "      <td>6</td>\n",
       "      <td>False</td>\n",
       "    </tr>\n",
       "    <tr>\n",
       "      <th>777</th>\n",
       "      <td>Klefki</td>\n",
       "      <td>Steel</td>\n",
       "      <td>Fairy</td>\n",
       "      <td>470</td>\n",
       "      <td>57</td>\n",
       "      <td>80</td>\n",
       "      <td>91</td>\n",
       "      <td>80</td>\n",
       "      <td>87</td>\n",
       "      <td>75</td>\n",
       "      <td>6</td>\n",
       "      <td>False</td>\n",
       "    </tr>\n",
       "    <tr>\n",
       "      <th>778</th>\n",
       "      <td>Phantump</td>\n",
       "      <td>Ghost</td>\n",
       "      <td>Grass</td>\n",
       "      <td>309</td>\n",
       "      <td>43</td>\n",
       "      <td>70</td>\n",
       "      <td>48</td>\n",
       "      <td>50</td>\n",
       "      <td>60</td>\n",
       "      <td>38</td>\n",
       "      <td>6</td>\n",
       "      <td>False</td>\n",
       "    </tr>\n",
       "    <tr>\n",
       "      <th>779</th>\n",
       "      <td>Trevenant</td>\n",
       "      <td>Ghost</td>\n",
       "      <td>Grass</td>\n",
       "      <td>474</td>\n",
       "      <td>85</td>\n",
       "      <td>110</td>\n",
       "      <td>76</td>\n",
       "      <td>65</td>\n",
       "      <td>82</td>\n",
       "      <td>56</td>\n",
       "      <td>6</td>\n",
       "      <td>False</td>\n",
       "    </tr>\n",
       "    <tr>\n",
       "      <th>780</th>\n",
       "      <td>PumpkabooAverage Size</td>\n",
       "      <td>Ghost</td>\n",
       "      <td>Grass</td>\n",
       "      <td>335</td>\n",
       "      <td>49</td>\n",
       "      <td>66</td>\n",
       "      <td>70</td>\n",
       "      <td>44</td>\n",
       "      <td>55</td>\n",
       "      <td>51</td>\n",
       "      <td>6</td>\n",
       "      <td>False</td>\n",
       "    </tr>\n",
       "    <tr>\n",
       "      <th>781</th>\n",
       "      <td>PumpkabooSmall Size</td>\n",
       "      <td>Ghost</td>\n",
       "      <td>Grass</td>\n",
       "      <td>335</td>\n",
       "      <td>44</td>\n",
       "      <td>66</td>\n",
       "      <td>70</td>\n",
       "      <td>44</td>\n",
       "      <td>55</td>\n",
       "      <td>56</td>\n",
       "      <td>6</td>\n",
       "      <td>False</td>\n",
       "    </tr>\n",
       "    <tr>\n",
       "      <th>782</th>\n",
       "      <td>PumpkabooLarge Size</td>\n",
       "      <td>Ghost</td>\n",
       "      <td>Grass</td>\n",
       "      <td>335</td>\n",
       "      <td>54</td>\n",
       "      <td>66</td>\n",
       "      <td>70</td>\n",
       "      <td>44</td>\n",
       "      <td>55</td>\n",
       "      <td>46</td>\n",
       "      <td>6</td>\n",
       "      <td>False</td>\n",
       "    </tr>\n",
       "    <tr>\n",
       "      <th>783</th>\n",
       "      <td>PumpkabooSuper Size</td>\n",
       "      <td>Ghost</td>\n",
       "      <td>Grass</td>\n",
       "      <td>335</td>\n",
       "      <td>59</td>\n",
       "      <td>66</td>\n",
       "      <td>70</td>\n",
       "      <td>44</td>\n",
       "      <td>55</td>\n",
       "      <td>41</td>\n",
       "      <td>6</td>\n",
       "      <td>False</td>\n",
       "    </tr>\n",
       "    <tr>\n",
       "      <th>784</th>\n",
       "      <td>GourgeistAverage Size</td>\n",
       "      <td>Ghost</td>\n",
       "      <td>Grass</td>\n",
       "      <td>494</td>\n",
       "      <td>65</td>\n",
       "      <td>90</td>\n",
       "      <td>122</td>\n",
       "      <td>58</td>\n",
       "      <td>75</td>\n",
       "      <td>84</td>\n",
       "      <td>6</td>\n",
       "      <td>False</td>\n",
       "    </tr>\n",
       "    <tr>\n",
       "      <th>785</th>\n",
       "      <td>GourgeistSmall Size</td>\n",
       "      <td>Ghost</td>\n",
       "      <td>Grass</td>\n",
       "      <td>494</td>\n",
       "      <td>55</td>\n",
       "      <td>85</td>\n",
       "      <td>122</td>\n",
       "      <td>58</td>\n",
       "      <td>75</td>\n",
       "      <td>99</td>\n",
       "      <td>6</td>\n",
       "      <td>False</td>\n",
       "    </tr>\n",
       "    <tr>\n",
       "      <th>786</th>\n",
       "      <td>GourgeistLarge Size</td>\n",
       "      <td>Ghost</td>\n",
       "      <td>Grass</td>\n",
       "      <td>494</td>\n",
       "      <td>75</td>\n",
       "      <td>95</td>\n",
       "      <td>122</td>\n",
       "      <td>58</td>\n",
       "      <td>75</td>\n",
       "      <td>69</td>\n",
       "      <td>6</td>\n",
       "      <td>False</td>\n",
       "    </tr>\n",
       "    <tr>\n",
       "      <th>787</th>\n",
       "      <td>GourgeistSuper Size</td>\n",
       "      <td>Ghost</td>\n",
       "      <td>Grass</td>\n",
       "      <td>494</td>\n",
       "      <td>85</td>\n",
       "      <td>100</td>\n",
       "      <td>122</td>\n",
       "      <td>58</td>\n",
       "      <td>75</td>\n",
       "      <td>54</td>\n",
       "      <td>6</td>\n",
       "      <td>False</td>\n",
       "    </tr>\n",
       "    <tr>\n",
       "      <th>788</th>\n",
       "      <td>Bergmite</td>\n",
       "      <td>Ice</td>\n",
       "      <td>NaN</td>\n",
       "      <td>304</td>\n",
       "      <td>55</td>\n",
       "      <td>69</td>\n",
       "      <td>85</td>\n",
       "      <td>32</td>\n",
       "      <td>35</td>\n",
       "      <td>28</td>\n",
       "      <td>6</td>\n",
       "      <td>False</td>\n",
       "    </tr>\n",
       "    <tr>\n",
       "      <th>789</th>\n",
       "      <td>Avalugg</td>\n",
       "      <td>Ice</td>\n",
       "      <td>NaN</td>\n",
       "      <td>514</td>\n",
       "      <td>95</td>\n",
       "      <td>117</td>\n",
       "      <td>184</td>\n",
       "      <td>44</td>\n",
       "      <td>46</td>\n",
       "      <td>28</td>\n",
       "      <td>6</td>\n",
       "      <td>False</td>\n",
       "    </tr>\n",
       "    <tr>\n",
       "      <th>790</th>\n",
       "      <td>Noibat</td>\n",
       "      <td>Flying</td>\n",
       "      <td>Dragon</td>\n",
       "      <td>245</td>\n",
       "      <td>40</td>\n",
       "      <td>30</td>\n",
       "      <td>35</td>\n",
       "      <td>45</td>\n",
       "      <td>40</td>\n",
       "      <td>55</td>\n",
       "      <td>6</td>\n",
       "      <td>False</td>\n",
       "    </tr>\n",
       "    <tr>\n",
       "      <th>791</th>\n",
       "      <td>Noivern</td>\n",
       "      <td>Flying</td>\n",
       "      <td>Dragon</td>\n",
       "      <td>535</td>\n",
       "      <td>85</td>\n",
       "      <td>70</td>\n",
       "      <td>80</td>\n",
       "      <td>97</td>\n",
       "      <td>80</td>\n",
       "      <td>123</td>\n",
       "      <td>6</td>\n",
       "      <td>False</td>\n",
       "    </tr>\n",
       "    <tr>\n",
       "      <th>792</th>\n",
       "      <td>Xerneas</td>\n",
       "      <td>Fairy</td>\n",
       "      <td>NaN</td>\n",
       "      <td>680</td>\n",
       "      <td>126</td>\n",
       "      <td>131</td>\n",
       "      <td>95</td>\n",
       "      <td>131</td>\n",
       "      <td>98</td>\n",
       "      <td>99</td>\n",
       "      <td>6</td>\n",
       "      <td>True</td>\n",
       "    </tr>\n",
       "    <tr>\n",
       "      <th>793</th>\n",
       "      <td>Yveltal</td>\n",
       "      <td>Dark</td>\n",
       "      <td>Flying</td>\n",
       "      <td>680</td>\n",
       "      <td>126</td>\n",
       "      <td>131</td>\n",
       "      <td>95</td>\n",
       "      <td>131</td>\n",
       "      <td>98</td>\n",
       "      <td>99</td>\n",
       "      <td>6</td>\n",
       "      <td>True</td>\n",
       "    </tr>\n",
       "    <tr>\n",
       "      <th>794</th>\n",
       "      <td>Zygarde50% Forme</td>\n",
       "      <td>Dragon</td>\n",
       "      <td>Ground</td>\n",
       "      <td>600</td>\n",
       "      <td>108</td>\n",
       "      <td>100</td>\n",
       "      <td>121</td>\n",
       "      <td>81</td>\n",
       "      <td>95</td>\n",
       "      <td>95</td>\n",
       "      <td>6</td>\n",
       "      <td>True</td>\n",
       "    </tr>\n",
       "    <tr>\n",
       "      <th>795</th>\n",
       "      <td>Diancie</td>\n",
       "      <td>Rock</td>\n",
       "      <td>Fairy</td>\n",
       "      <td>600</td>\n",
       "      <td>50</td>\n",
       "      <td>100</td>\n",
       "      <td>150</td>\n",
       "      <td>100</td>\n",
       "      <td>150</td>\n",
       "      <td>50</td>\n",
       "      <td>6</td>\n",
       "      <td>True</td>\n",
       "    </tr>\n",
       "    <tr>\n",
       "      <th>796</th>\n",
       "      <td>DiancieMega Diancie</td>\n",
       "      <td>Rock</td>\n",
       "      <td>Fairy</td>\n",
       "      <td>700</td>\n",
       "      <td>50</td>\n",
       "      <td>160</td>\n",
       "      <td>110</td>\n",
       "      <td>160</td>\n",
       "      <td>110</td>\n",
       "      <td>110</td>\n",
       "      <td>6</td>\n",
       "      <td>True</td>\n",
       "    </tr>\n",
       "    <tr>\n",
       "      <th>797</th>\n",
       "      <td>HoopaHoopa Confined</td>\n",
       "      <td>Psychic</td>\n",
       "      <td>Ghost</td>\n",
       "      <td>600</td>\n",
       "      <td>80</td>\n",
       "      <td>110</td>\n",
       "      <td>60</td>\n",
       "      <td>150</td>\n",
       "      <td>130</td>\n",
       "      <td>70</td>\n",
       "      <td>6</td>\n",
       "      <td>True</td>\n",
       "    </tr>\n",
       "    <tr>\n",
       "      <th>798</th>\n",
       "      <td>HoopaHoopa Unbound</td>\n",
       "      <td>Psychic</td>\n",
       "      <td>Dark</td>\n",
       "      <td>680</td>\n",
       "      <td>80</td>\n",
       "      <td>160</td>\n",
       "      <td>60</td>\n",
       "      <td>170</td>\n",
       "      <td>130</td>\n",
       "      <td>80</td>\n",
       "      <td>6</td>\n",
       "      <td>True</td>\n",
       "    </tr>\n",
       "    <tr>\n",
       "      <th>799</th>\n",
       "      <td>Volcanion</td>\n",
       "      <td>Fire</td>\n",
       "      <td>Water</td>\n",
       "      <td>600</td>\n",
       "      <td>80</td>\n",
       "      <td>110</td>\n",
       "      <td>120</td>\n",
       "      <td>130</td>\n",
       "      <td>90</td>\n",
       "      <td>70</td>\n",
       "      <td>6</td>\n",
       "      <td>True</td>\n",
       "    </tr>\n",
       "  </tbody>\n",
       "</table>\n",
       "<p>800 rows × 12 columns</p>\n",
       "</div>"
      ],
      "text/plain": [
       "                          Name    Type_1  Type_2  Total   HP  Attack  Defense  \\\n",
       "0                    Bulbasaur     Grass  Poison    318   45      49       49   \n",
       "1                      Ivysaur     Grass  Poison    405   60      62       63   \n",
       "2                     Venusaur     Grass  Poison    525   80      82       83   \n",
       "3        VenusaurMega Venusaur     Grass  Poison    625   80     100      123   \n",
       "4                   Charmander      Fire     NaN    309   39      52       43   \n",
       "5                   Charmeleon      Fire     NaN    405   58      64       58   \n",
       "6                    Charizard      Fire  Flying    534   78      84       78   \n",
       "7    CharizardMega Charizard X      Fire  Dragon    634   78     130      111   \n",
       "8    CharizardMega Charizard Y      Fire  Flying    634   78     104       78   \n",
       "9                     Squirtle     Water     NaN    314   44      48       65   \n",
       "10                   Wartortle     Water     NaN    405   59      63       80   \n",
       "11                   Blastoise     Water     NaN    530   79      83      100   \n",
       "12     BlastoiseMega Blastoise     Water     NaN    630   79     103      120   \n",
       "13                    Caterpie       Bug     NaN    195   45      30       35   \n",
       "14                     Metapod       Bug     NaN    205   50      20       55   \n",
       "15                  Butterfree       Bug  Flying    395   60      45       50   \n",
       "16                      Weedle       Bug  Poison    195   40      35       30   \n",
       "17                      Kakuna       Bug  Poison    205   45      25       50   \n",
       "18                    Beedrill       Bug  Poison    395   65      90       40   \n",
       "19       BeedrillMega Beedrill       Bug  Poison    495   65     150       40   \n",
       "20                      Pidgey    Normal  Flying    251   40      45       40   \n",
       "21                   Pidgeotto    Normal  Flying    349   63      60       55   \n",
       "22                     Pidgeot    Normal  Flying    479   83      80       75   \n",
       "23         PidgeotMega Pidgeot    Normal  Flying    579   83      80       80   \n",
       "24                     Rattata    Normal     NaN    253   30      56       35   \n",
       "25                    Raticate    Normal     NaN    413   55      81       60   \n",
       "26                     Spearow    Normal  Flying    262   40      60       30   \n",
       "27                      Fearow    Normal  Flying    442   65      90       65   \n",
       "28                       Ekans    Poison     NaN    288   35      60       44   \n",
       "29                       Arbok    Poison     NaN    438   60      85       69   \n",
       "..                         ...       ...     ...    ...  ...     ...      ...   \n",
       "770                    Sylveon     Fairy     NaN    525   95      65       65   \n",
       "771                   Hawlucha  Fighting  Flying    500   78      92       75   \n",
       "772                    Dedenne  Electric   Fairy    431   67      58       57   \n",
       "773                    Carbink      Rock   Fairy    500   50      50      150   \n",
       "774                      Goomy    Dragon     NaN    300   45      50       35   \n",
       "775                    Sliggoo    Dragon     NaN    452   68      75       53   \n",
       "776                     Goodra    Dragon     NaN    600   90     100       70   \n",
       "777                     Klefki     Steel   Fairy    470   57      80       91   \n",
       "778                   Phantump     Ghost   Grass    309   43      70       48   \n",
       "779                  Trevenant     Ghost   Grass    474   85     110       76   \n",
       "780      PumpkabooAverage Size     Ghost   Grass    335   49      66       70   \n",
       "781        PumpkabooSmall Size     Ghost   Grass    335   44      66       70   \n",
       "782        PumpkabooLarge Size     Ghost   Grass    335   54      66       70   \n",
       "783        PumpkabooSuper Size     Ghost   Grass    335   59      66       70   \n",
       "784      GourgeistAverage Size     Ghost   Grass    494   65      90      122   \n",
       "785        GourgeistSmall Size     Ghost   Grass    494   55      85      122   \n",
       "786        GourgeistLarge Size     Ghost   Grass    494   75      95      122   \n",
       "787        GourgeistSuper Size     Ghost   Grass    494   85     100      122   \n",
       "788                   Bergmite       Ice     NaN    304   55      69       85   \n",
       "789                    Avalugg       Ice     NaN    514   95     117      184   \n",
       "790                     Noibat    Flying  Dragon    245   40      30       35   \n",
       "791                    Noivern    Flying  Dragon    535   85      70       80   \n",
       "792                    Xerneas     Fairy     NaN    680  126     131       95   \n",
       "793                    Yveltal      Dark  Flying    680  126     131       95   \n",
       "794           Zygarde50% Forme    Dragon  Ground    600  108     100      121   \n",
       "795                    Diancie      Rock   Fairy    600   50     100      150   \n",
       "796        DiancieMega Diancie      Rock   Fairy    700   50     160      110   \n",
       "797        HoopaHoopa Confined   Psychic   Ghost    600   80     110       60   \n",
       "798         HoopaHoopa Unbound   Psychic    Dark    680   80     160       60   \n",
       "799                  Volcanion      Fire   Water    600   80     110      120   \n",
       "\n",
       "     Sp_Atk  Sp_Def  Speed  Generation  Legendary  \n",
       "0        65      65     45           1      False  \n",
       "1        80      80     60           1      False  \n",
       "2       100     100     80           1      False  \n",
       "3       122     120     80           1      False  \n",
       "4        60      50     65           1      False  \n",
       "5        80      65     80           1      False  \n",
       "6       109      85    100           1      False  \n",
       "7       130      85    100           1      False  \n",
       "8       159     115    100           1      False  \n",
       "9        50      64     43           1      False  \n",
       "10       65      80     58           1      False  \n",
       "11       85     105     78           1      False  \n",
       "12      135     115     78           1      False  \n",
       "13       20      20     45           1      False  \n",
       "14       25      25     30           1      False  \n",
       "15       90      80     70           1      False  \n",
       "16       20      20     50           1      False  \n",
       "17       25      25     35           1      False  \n",
       "18       45      80     75           1      False  \n",
       "19       15      80    145           1      False  \n",
       "20       35      35     56           1      False  \n",
       "21       50      50     71           1      False  \n",
       "22       70      70    101           1      False  \n",
       "23      135      80    121           1      False  \n",
       "24       25      35     72           1      False  \n",
       "25       50      70     97           1      False  \n",
       "26       31      31     70           1      False  \n",
       "27       61      61    100           1      False  \n",
       "28       40      54     55           1      False  \n",
       "29       65      79     80           1      False  \n",
       "..      ...     ...    ...         ...        ...  \n",
       "770     110     130     60           6      False  \n",
       "771      74      63    118           6      False  \n",
       "772      81      67    101           6      False  \n",
       "773      50     150     50           6      False  \n",
       "774      55      75     40           6      False  \n",
       "775      83     113     60           6      False  \n",
       "776     110     150     80           6      False  \n",
       "777      80      87     75           6      False  \n",
       "778      50      60     38           6      False  \n",
       "779      65      82     56           6      False  \n",
       "780      44      55     51           6      False  \n",
       "781      44      55     56           6      False  \n",
       "782      44      55     46           6      False  \n",
       "783      44      55     41           6      False  \n",
       "784      58      75     84           6      False  \n",
       "785      58      75     99           6      False  \n",
       "786      58      75     69           6      False  \n",
       "787      58      75     54           6      False  \n",
       "788      32      35     28           6      False  \n",
       "789      44      46     28           6      False  \n",
       "790      45      40     55           6      False  \n",
       "791      97      80    123           6      False  \n",
       "792     131      98     99           6       True  \n",
       "793     131      98     99           6       True  \n",
       "794      81      95     95           6       True  \n",
       "795     100     150     50           6       True  \n",
       "796     160     110    110           6       True  \n",
       "797     150     130     70           6       True  \n",
       "798     170     130     80           6       True  \n",
       "799     130      90     70           6       True  \n",
       "\n",
       "[800 rows x 12 columns]"
      ]
     },
     "execution_count": 3,
     "metadata": {},
     "output_type": "execute_result"
    }
   ],
   "source": [
    "dataInfo"
   ]
  },
  {
   "cell_type": "markdown",
   "metadata": {},
   "source": [
    "### Анализ данных"
   ]
  },
  {
   "cell_type": "code",
   "execution_count": 4,
   "metadata": {},
   "outputs": [
    {
     "name": "stdout",
     "output_type": "stream",
     "text": [
      "(800, 12)\n"
     ]
    }
   ],
   "source": [
    "print(dataInfo.shape)"
   ]
  },
  {
   "cell_type": "markdown",
   "metadata": {},
   "source": [
    "таблица содержит 800 строк (объектов) и 12 столбцов (признаков), выведенных ниже, включая выходной (целевой) признак."
   ]
  },
  {
   "cell_type": "code",
   "execution_count": 5,
   "metadata": {},
   "outputs": [
    {
     "name": "stdout",
     "output_type": "stream",
     "text": [
      "['Name', 'Type_1', 'Type_2', 'Total', 'HP', 'Attack', 'Defense', 'Sp_Atk', 'Sp_Def', 'Speed', 'Generation', 'Legendary']\n"
     ]
    }
   ],
   "source": [
    "cols = list(dataInfo.columns.values)\n",
    "print(cols)"
   ]
  },
  {
   "cell_type": "markdown",
   "metadata": {},
   "source": [
    "Для получения представления об имеющихся данных выведем первые несколько строк:"
   ]
  },
  {
   "cell_type": "code",
   "execution_count": 6,
   "metadata": {},
   "outputs": [
    {
     "data": {
      "text/html": [
       "<div>\n",
       "<style scoped>\n",
       "    .dataframe tbody tr th:only-of-type {\n",
       "        vertical-align: middle;\n",
       "    }\n",
       "\n",
       "    .dataframe tbody tr th {\n",
       "        vertical-align: top;\n",
       "    }\n",
       "\n",
       "    .dataframe thead th {\n",
       "        text-align: right;\n",
       "    }\n",
       "</style>\n",
       "<table border=\"1\" class=\"dataframe\">\n",
       "  <thead>\n",
       "    <tr style=\"text-align: right;\">\n",
       "      <th></th>\n",
       "      <th>Name</th>\n",
       "      <th>Type_1</th>\n",
       "      <th>Type_2</th>\n",
       "      <th>Total</th>\n",
       "      <th>HP</th>\n",
       "      <th>Attack</th>\n",
       "      <th>Defense</th>\n",
       "      <th>Sp_Atk</th>\n",
       "      <th>Sp_Def</th>\n",
       "      <th>Speed</th>\n",
       "      <th>Generation</th>\n",
       "      <th>Legendary</th>\n",
       "    </tr>\n",
       "  </thead>\n",
       "  <tbody>\n",
       "    <tr>\n",
       "      <th>0</th>\n",
       "      <td>Bulbasaur</td>\n",
       "      <td>Grass</td>\n",
       "      <td>Poison</td>\n",
       "      <td>318</td>\n",
       "      <td>45</td>\n",
       "      <td>49</td>\n",
       "      <td>49</td>\n",
       "      <td>65</td>\n",
       "      <td>65</td>\n",
       "      <td>45</td>\n",
       "      <td>1</td>\n",
       "      <td>False</td>\n",
       "    </tr>\n",
       "    <tr>\n",
       "      <th>1</th>\n",
       "      <td>Ivysaur</td>\n",
       "      <td>Grass</td>\n",
       "      <td>Poison</td>\n",
       "      <td>405</td>\n",
       "      <td>60</td>\n",
       "      <td>62</td>\n",
       "      <td>63</td>\n",
       "      <td>80</td>\n",
       "      <td>80</td>\n",
       "      <td>60</td>\n",
       "      <td>1</td>\n",
       "      <td>False</td>\n",
       "    </tr>\n",
       "    <tr>\n",
       "      <th>2</th>\n",
       "      <td>Venusaur</td>\n",
       "      <td>Grass</td>\n",
       "      <td>Poison</td>\n",
       "      <td>525</td>\n",
       "      <td>80</td>\n",
       "      <td>82</td>\n",
       "      <td>83</td>\n",
       "      <td>100</td>\n",
       "      <td>100</td>\n",
       "      <td>80</td>\n",
       "      <td>1</td>\n",
       "      <td>False</td>\n",
       "    </tr>\n",
       "    <tr>\n",
       "      <th>3</th>\n",
       "      <td>VenusaurMega Venusaur</td>\n",
       "      <td>Grass</td>\n",
       "      <td>Poison</td>\n",
       "      <td>625</td>\n",
       "      <td>80</td>\n",
       "      <td>100</td>\n",
       "      <td>123</td>\n",
       "      <td>122</td>\n",
       "      <td>120</td>\n",
       "      <td>80</td>\n",
       "      <td>1</td>\n",
       "      <td>False</td>\n",
       "    </tr>\n",
       "    <tr>\n",
       "      <th>4</th>\n",
       "      <td>Charmander</td>\n",
       "      <td>Fire</td>\n",
       "      <td>NaN</td>\n",
       "      <td>309</td>\n",
       "      <td>39</td>\n",
       "      <td>52</td>\n",
       "      <td>43</td>\n",
       "      <td>60</td>\n",
       "      <td>50</td>\n",
       "      <td>65</td>\n",
       "      <td>1</td>\n",
       "      <td>False</td>\n",
       "    </tr>\n",
       "  </tbody>\n",
       "</table>\n",
       "</div>"
      ],
      "text/plain": [
       "                    Name Type_1  Type_2  Total  HP  Attack  Defense  Sp_Atk  \\\n",
       "0              Bulbasaur  Grass  Poison    318  45      49       49      65   \n",
       "1                Ivysaur  Grass  Poison    405  60      62       63      80   \n",
       "2               Venusaur  Grass  Poison    525  80      82       83     100   \n",
       "3  VenusaurMega Venusaur  Grass  Poison    625  80     100      123     122   \n",
       "4             Charmander   Fire     NaN    309  39      52       43      60   \n",
       "\n",
       "   Sp_Def  Speed  Generation  Legendary  \n",
       "0      65     45           1      False  \n",
       "1      80     60           1      False  \n",
       "2     100     80           1      False  \n",
       "3     120     80           1      False  \n",
       "4      50     65           1      False  "
      ]
     },
     "execution_count": 6,
     "metadata": {},
     "output_type": "execute_result"
    }
   ],
   "source": [
    "dataInfo.head()"
   ]
  },
  {
   "cell_type": "code",
   "execution_count": 7,
   "metadata": {},
   "outputs": [
    {
     "data": {
      "text/html": [
       "<div>\n",
       "<style scoped>\n",
       "    .dataframe tbody tr th:only-of-type {\n",
       "        vertical-align: middle;\n",
       "    }\n",
       "\n",
       "    .dataframe tbody tr th {\n",
       "        vertical-align: top;\n",
       "    }\n",
       "\n",
       "    .dataframe thead th {\n",
       "        text-align: right;\n",
       "    }\n",
       "</style>\n",
       "<table border=\"1\" class=\"dataframe\">\n",
       "  <thead>\n",
       "    <tr style=\"text-align: right;\">\n",
       "      <th></th>\n",
       "      <th>Type_1</th>\n",
       "      <th>Type_2</th>\n",
       "      <th>Total</th>\n",
       "      <th>HP</th>\n",
       "      <th>Attack</th>\n",
       "      <th>Defense</th>\n",
       "      <th>Sp_Atk</th>\n",
       "      <th>Sp_Def</th>\n",
       "      <th>Speed</th>\n",
       "      <th>Generation</th>\n",
       "      <th>Legendary</th>\n",
       "    </tr>\n",
       "  </thead>\n",
       "  <tbody>\n",
       "    <tr>\n",
       "      <th>0</th>\n",
       "      <td>Grass</td>\n",
       "      <td>Poison</td>\n",
       "      <td>318</td>\n",
       "      <td>45</td>\n",
       "      <td>49</td>\n",
       "      <td>49</td>\n",
       "      <td>65</td>\n",
       "      <td>65</td>\n",
       "      <td>45</td>\n",
       "      <td>1</td>\n",
       "      <td>False</td>\n",
       "    </tr>\n",
       "    <tr>\n",
       "      <th>1</th>\n",
       "      <td>Grass</td>\n",
       "      <td>Poison</td>\n",
       "      <td>405</td>\n",
       "      <td>60</td>\n",
       "      <td>62</td>\n",
       "      <td>63</td>\n",
       "      <td>80</td>\n",
       "      <td>80</td>\n",
       "      <td>60</td>\n",
       "      <td>1</td>\n",
       "      <td>False</td>\n",
       "    </tr>\n",
       "    <tr>\n",
       "      <th>2</th>\n",
       "      <td>Grass</td>\n",
       "      <td>Poison</td>\n",
       "      <td>525</td>\n",
       "      <td>80</td>\n",
       "      <td>82</td>\n",
       "      <td>83</td>\n",
       "      <td>100</td>\n",
       "      <td>100</td>\n",
       "      <td>80</td>\n",
       "      <td>1</td>\n",
       "      <td>False</td>\n",
       "    </tr>\n",
       "    <tr>\n",
       "      <th>3</th>\n",
       "      <td>Grass</td>\n",
       "      <td>Poison</td>\n",
       "      <td>625</td>\n",
       "      <td>80</td>\n",
       "      <td>100</td>\n",
       "      <td>123</td>\n",
       "      <td>122</td>\n",
       "      <td>120</td>\n",
       "      <td>80</td>\n",
       "      <td>1</td>\n",
       "      <td>False</td>\n",
       "    </tr>\n",
       "    <tr>\n",
       "      <th>4</th>\n",
       "      <td>Fire</td>\n",
       "      <td>NaN</td>\n",
       "      <td>309</td>\n",
       "      <td>39</td>\n",
       "      <td>52</td>\n",
       "      <td>43</td>\n",
       "      <td>60</td>\n",
       "      <td>50</td>\n",
       "      <td>65</td>\n",
       "      <td>1</td>\n",
       "      <td>False</td>\n",
       "    </tr>\n",
       "  </tbody>\n",
       "</table>\n",
       "</div>"
      ],
      "text/plain": [
       "  Type_1  Type_2  Total  HP  Attack  Defense  Sp_Atk  Sp_Def  Speed  \\\n",
       "0  Grass  Poison    318  45      49       49      65      65     45   \n",
       "1  Grass  Poison    405  60      62       63      80      80     60   \n",
       "2  Grass  Poison    525  80      82       83     100     100     80   \n",
       "3  Grass  Poison    625  80     100      123     122     120     80   \n",
       "4   Fire     NaN    309  39      52       43      60      50     65   \n",
       "\n",
       "   Generation  Legendary  \n",
       "0           1      False  \n",
       "1           1      False  \n",
       "2           1      False  \n",
       "3           1      False  \n",
       "4           1      False  "
      ]
     },
     "execution_count": 7,
     "metadata": {},
     "output_type": "execute_result"
    }
   ],
   "source": [
    "dataInfo = dataInfo.drop(\"Name\", axis = 1)\n",
    "dataInfo.head()"
   ]
  },
  {
   "cell_type": "code",
   "execution_count": 8,
   "metadata": {},
   "outputs": [
    {
     "data": {
      "text/html": [
       "<div>\n",
       "<style scoped>\n",
       "    .dataframe tbody tr th:only-of-type {\n",
       "        vertical-align: middle;\n",
       "    }\n",
       "\n",
       "    .dataframe tbody tr th {\n",
       "        vertical-align: top;\n",
       "    }\n",
       "\n",
       "    .dataframe thead th {\n",
       "        text-align: right;\n",
       "    }\n",
       "</style>\n",
       "<table border=\"1\" class=\"dataframe\">\n",
       "  <thead>\n",
       "    <tr style=\"text-align: right;\">\n",
       "      <th></th>\n",
       "      <th>Total</th>\n",
       "      <th>HP</th>\n",
       "      <th>Attack</th>\n",
       "      <th>Defense</th>\n",
       "      <th>Sp_Atk</th>\n",
       "      <th>Sp_Def</th>\n",
       "      <th>Speed</th>\n",
       "      <th>Generation</th>\n",
       "    </tr>\n",
       "  </thead>\n",
       "  <tbody>\n",
       "    <tr>\n",
       "      <th>count</th>\n",
       "      <td>800.00000</td>\n",
       "      <td>800.000000</td>\n",
       "      <td>800.000000</td>\n",
       "      <td>800.000000</td>\n",
       "      <td>800.000000</td>\n",
       "      <td>800.000000</td>\n",
       "      <td>800.000000</td>\n",
       "      <td>800.00000</td>\n",
       "    </tr>\n",
       "    <tr>\n",
       "      <th>mean</th>\n",
       "      <td>435.10250</td>\n",
       "      <td>69.258750</td>\n",
       "      <td>79.001250</td>\n",
       "      <td>73.842500</td>\n",
       "      <td>72.820000</td>\n",
       "      <td>71.902500</td>\n",
       "      <td>68.277500</td>\n",
       "      <td>3.32375</td>\n",
       "    </tr>\n",
       "    <tr>\n",
       "      <th>std</th>\n",
       "      <td>119.96304</td>\n",
       "      <td>25.534669</td>\n",
       "      <td>32.457366</td>\n",
       "      <td>31.183501</td>\n",
       "      <td>32.722294</td>\n",
       "      <td>27.828916</td>\n",
       "      <td>29.060474</td>\n",
       "      <td>1.66129</td>\n",
       "    </tr>\n",
       "    <tr>\n",
       "      <th>min</th>\n",
       "      <td>180.00000</td>\n",
       "      <td>1.000000</td>\n",
       "      <td>5.000000</td>\n",
       "      <td>5.000000</td>\n",
       "      <td>10.000000</td>\n",
       "      <td>20.000000</td>\n",
       "      <td>5.000000</td>\n",
       "      <td>1.00000</td>\n",
       "    </tr>\n",
       "    <tr>\n",
       "      <th>25%</th>\n",
       "      <td>330.00000</td>\n",
       "      <td>50.000000</td>\n",
       "      <td>55.000000</td>\n",
       "      <td>50.000000</td>\n",
       "      <td>49.750000</td>\n",
       "      <td>50.000000</td>\n",
       "      <td>45.000000</td>\n",
       "      <td>2.00000</td>\n",
       "    </tr>\n",
       "    <tr>\n",
       "      <th>50%</th>\n",
       "      <td>450.00000</td>\n",
       "      <td>65.000000</td>\n",
       "      <td>75.000000</td>\n",
       "      <td>70.000000</td>\n",
       "      <td>65.000000</td>\n",
       "      <td>70.000000</td>\n",
       "      <td>65.000000</td>\n",
       "      <td>3.00000</td>\n",
       "    </tr>\n",
       "    <tr>\n",
       "      <th>75%</th>\n",
       "      <td>515.00000</td>\n",
       "      <td>80.000000</td>\n",
       "      <td>100.000000</td>\n",
       "      <td>90.000000</td>\n",
       "      <td>95.000000</td>\n",
       "      <td>90.000000</td>\n",
       "      <td>90.000000</td>\n",
       "      <td>5.00000</td>\n",
       "    </tr>\n",
       "    <tr>\n",
       "      <th>max</th>\n",
       "      <td>780.00000</td>\n",
       "      <td>255.000000</td>\n",
       "      <td>190.000000</td>\n",
       "      <td>230.000000</td>\n",
       "      <td>194.000000</td>\n",
       "      <td>230.000000</td>\n",
       "      <td>180.000000</td>\n",
       "      <td>6.00000</td>\n",
       "    </tr>\n",
       "  </tbody>\n",
       "</table>\n",
       "</div>"
      ],
      "text/plain": [
       "           Total          HP      Attack     Defense      Sp_Atk      Sp_Def  \\\n",
       "count  800.00000  800.000000  800.000000  800.000000  800.000000  800.000000   \n",
       "mean   435.10250   69.258750   79.001250   73.842500   72.820000   71.902500   \n",
       "std    119.96304   25.534669   32.457366   31.183501   32.722294   27.828916   \n",
       "min    180.00000    1.000000    5.000000    5.000000   10.000000   20.000000   \n",
       "25%    330.00000   50.000000   55.000000   50.000000   49.750000   50.000000   \n",
       "50%    450.00000   65.000000   75.000000   70.000000   65.000000   70.000000   \n",
       "75%    515.00000   80.000000  100.000000   90.000000   95.000000   90.000000   \n",
       "max    780.00000  255.000000  190.000000  230.000000  194.000000  230.000000   \n",
       "\n",
       "            Speed  Generation  \n",
       "count  800.000000   800.00000  \n",
       "mean    68.277500     3.32375  \n",
       "std     29.060474     1.66129  \n",
       "min      5.000000     1.00000  \n",
       "25%     45.000000     2.00000  \n",
       "50%     65.000000     3.00000  \n",
       "75%     90.000000     5.00000  \n",
       "max    180.000000     6.00000  "
      ]
     },
     "execution_count": 8,
     "metadata": {},
     "output_type": "execute_result"
    }
   ],
   "source": [
    "dataInfo.describe()"
   ]
  },
  {
   "cell_type": "markdown",
   "metadata": {},
   "source": [
    "Корреляция признаков:"
   ]
  },
  {
   "cell_type": "code",
   "execution_count": 9,
   "metadata": {},
   "outputs": [
    {
     "data": {
      "image/png": "[encoded data removed]",
      "text/plain": [
       "<Figure size 720x432 with 2 Axes>"
      ]
     },
     "metadata": {},
     "output_type": "display_data"
    }
   ],
   "source": [
    "plt.figure(figsize=(10,6))\n",
    "sbn.heatmap(dataInfo.corr(),annot=True) \n",
    "plt.show()"
   ]
  },
  {
   "cell_type": "code",
   "execution_count": 10,
   "metadata": {},
   "outputs": [
    {
     "data": {
      "text/html": [
       "<div>\n",
       "<style scoped>\n",
       "    .dataframe tbody tr th:only-of-type {\n",
       "        vertical-align: middle;\n",
       "    }\n",
       "\n",
       "    .dataframe tbody tr th {\n",
       "        vertical-align: top;\n",
       "    }\n",
       "\n",
       "    .dataframe thead th {\n",
       "        text-align: right;\n",
       "    }\n",
       "</style>\n",
       "<table border=\"1\" class=\"dataframe\">\n",
       "  <thead>\n",
       "    <tr style=\"text-align: right;\">\n",
       "      <th></th>\n",
       "      <th>Total</th>\n",
       "      <th>HP</th>\n",
       "      <th>Attack</th>\n",
       "      <th>Defense</th>\n",
       "      <th>Sp_Atk</th>\n",
       "      <th>Sp_Def</th>\n",
       "      <th>Speed</th>\n",
       "      <th>Generation</th>\n",
       "      <th>Legendary</th>\n",
       "    </tr>\n",
       "  </thead>\n",
       "  <tbody>\n",
       "    <tr>\n",
       "      <th>Total</th>\n",
       "      <td>1.000000</td>\n",
       "      <td>0.618748</td>\n",
       "      <td>0.736211</td>\n",
       "      <td>0.612787</td>\n",
       "      <td>0.747250</td>\n",
       "      <td>0.717609</td>\n",
       "      <td>0.575943</td>\n",
       "      <td>0.048384</td>\n",
       "      <td>0.501758</td>\n",
       "    </tr>\n",
       "    <tr>\n",
       "      <th>HP</th>\n",
       "      <td>0.618748</td>\n",
       "      <td>1.000000</td>\n",
       "      <td>0.422386</td>\n",
       "      <td>0.239622</td>\n",
       "      <td>0.362380</td>\n",
       "      <td>0.378718</td>\n",
       "      <td>0.175952</td>\n",
       "      <td>0.058683</td>\n",
       "      <td>0.273620</td>\n",
       "    </tr>\n",
       "    <tr>\n",
       "      <th>Attack</th>\n",
       "      <td>0.736211</td>\n",
       "      <td>0.422386</td>\n",
       "      <td>1.000000</td>\n",
       "      <td>0.438687</td>\n",
       "      <td>0.396362</td>\n",
       "      <td>0.263990</td>\n",
       "      <td>0.381240</td>\n",
       "      <td>0.051451</td>\n",
       "      <td>0.345408</td>\n",
       "    </tr>\n",
       "    <tr>\n",
       "      <th>Defense</th>\n",
       "      <td>0.612787</td>\n",
       "      <td>0.239622</td>\n",
       "      <td>0.438687</td>\n",
       "      <td>1.000000</td>\n",
       "      <td>0.223549</td>\n",
       "      <td>0.510747</td>\n",
       "      <td>0.015227</td>\n",
       "      <td>0.042419</td>\n",
       "      <td>0.246377</td>\n",
       "    </tr>\n",
       "    <tr>\n",
       "      <th>Sp_Atk</th>\n",
       "      <td>0.747250</td>\n",
       "      <td>0.362380</td>\n",
       "      <td>0.396362</td>\n",
       "      <td>0.223549</td>\n",
       "      <td>1.000000</td>\n",
       "      <td>0.506121</td>\n",
       "      <td>0.473018</td>\n",
       "      <td>0.036437</td>\n",
       "      <td>0.448907</td>\n",
       "    </tr>\n",
       "    <tr>\n",
       "      <th>Sp_Def</th>\n",
       "      <td>0.717609</td>\n",
       "      <td>0.378718</td>\n",
       "      <td>0.263990</td>\n",
       "      <td>0.510747</td>\n",
       "      <td>0.506121</td>\n",
       "      <td>1.000000</td>\n",
       "      <td>0.259133</td>\n",
       "      <td>0.028486</td>\n",
       "      <td>0.363937</td>\n",
       "    </tr>\n",
       "    <tr>\n",
       "      <th>Speed</th>\n",
       "      <td>0.575943</td>\n",
       "      <td>0.175952</td>\n",
       "      <td>0.381240</td>\n",
       "      <td>0.015227</td>\n",
       "      <td>0.473018</td>\n",
       "      <td>0.259133</td>\n",
       "      <td>1.000000</td>\n",
       "      <td>-0.023121</td>\n",
       "      <td>0.326715</td>\n",
       "    </tr>\n",
       "    <tr>\n",
       "      <th>Generation</th>\n",
       "      <td>0.048384</td>\n",
       "      <td>0.058683</td>\n",
       "      <td>0.051451</td>\n",
       "      <td>0.042419</td>\n",
       "      <td>0.036437</td>\n",
       "      <td>0.028486</td>\n",
       "      <td>-0.023121</td>\n",
       "      <td>1.000000</td>\n",
       "      <td>0.079794</td>\n",
       "    </tr>\n",
       "    <tr>\n",
       "      <th>Legendary</th>\n",
       "      <td>0.501758</td>\n",
       "      <td>0.273620</td>\n",
       "      <td>0.345408</td>\n",
       "      <td>0.246377</td>\n",
       "      <td>0.448907</td>\n",
       "      <td>0.363937</td>\n",
       "      <td>0.326715</td>\n",
       "      <td>0.079794</td>\n",
       "      <td>1.000000</td>\n",
       "    </tr>\n",
       "  </tbody>\n",
       "</table>\n",
       "</div>"
      ],
      "text/plain": [
       "               Total        HP    Attack   Defense    Sp_Atk    Sp_Def  \\\n",
       "Total       1.000000  0.618748  0.736211  0.612787  0.747250  0.717609   \n",
       "HP          0.618748  1.000000  0.422386  0.239622  0.362380  0.378718   \n",
       "Attack      0.736211  0.422386  1.000000  0.438687  0.396362  0.263990   \n",
       "Defense     0.612787  0.239622  0.438687  1.000000  0.223549  0.510747   \n",
       "Sp_Atk      0.747250  0.362380  0.396362  0.223549  1.000000  0.506121   \n",
       "Sp_Def      0.717609  0.378718  0.263990  0.510747  0.506121  1.000000   \n",
       "Speed       0.575943  0.175952  0.381240  0.015227  0.473018  0.259133   \n",
       "Generation  0.048384  0.058683  0.051451  0.042419  0.036437  0.028486   \n",
       "Legendary   0.501758  0.273620  0.345408  0.246377  0.448907  0.363937   \n",
       "\n",
       "               Speed  Generation  Legendary  \n",
       "Total       0.575943    0.048384   0.501758  \n",
       "HP          0.175952    0.058683   0.273620  \n",
       "Attack      0.381240    0.051451   0.345408  \n",
       "Defense     0.015227    0.042419   0.246377  \n",
       "Sp_Atk      0.473018    0.036437   0.448907  \n",
       "Sp_Def      0.259133    0.028486   0.363937  \n",
       "Speed       1.000000   -0.023121   0.326715  \n",
       "Generation -0.023121    1.000000   0.079794  \n",
       "Legendary   0.326715    0.079794   1.000000  "
      ]
     },
     "execution_count": 10,
     "metadata": {},
     "output_type": "execute_result"
    }
   ],
   "source": [
    "dataInfo.corr()"
   ]
  },
  {
   "cell_type": "markdown",
   "metadata": {},
   "source": [
    "Зависимость скорости атаки от типа покемона:"
   ]
  },
  {
   "cell_type": "code",
   "execution_count": 11,
   "metadata": {},
   "outputs": [
    {
     "data": {
      "text/plain": [
       "<seaborn.axisgrid.FacetGrid at 0x10ce17d30>"
      ]
     },
     "execution_count": 11,
     "metadata": {},
     "output_type": "execute_result"
    },
    {
     "data": {
      "image/png": "[encoded data removed]",
      "text/plain": [
       "<Figure size 360x360 with 1 Axes>"
      ]
     },
     "metadata": {},
     "output_type": "display_data"
    }
   ],
   "source": [
    "sbn.lmplot(x=\"Generation\", y=\"Speed\", data=dataInfo)"
   ]
  },
  {
   "cell_type": "markdown",
   "metadata": {},
   "source": [
    "Из этого видим, что зависимости между поколением и скоростью атаки у покемонов нет.\n",
    "\n",
    "Зависимость сопротивления против специальних атак от сопротивления:"
   ]
  },
  {
   "cell_type": "code",
   "execution_count": 12,
   "metadata": {},
   "outputs": [
    {
     "data": {
      "text/plain": [
       "<seaborn.axisgrid.FacetGrid at 0x10ce687f0>"
      ]
     },
     "execution_count": 12,
     "metadata": {},
     "output_type": "execute_result"
    },
    {
     "data": {
      "image/png": "[encoded data removed]",
      "text/plain": [
       "<Figure size 360x360 with 1 Axes>"
      ]
     },
     "metadata": {},
     "output_type": "display_data"
    }
   ],
   "source": [
    "sbn.lmplot(x=\"Sp_Def\", y=\"Defense\", data=dataInfo)"
   ]
  },
  {
   "cell_type": "markdown",
   "metadata": {},
   "source": [
    "Количество покемонов по их типам"
   ]
  },
  {
   "cell_type": "code",
   "execution_count": 13,
   "metadata": {},
   "outputs": [
    {
     "data": {
      "image/png": "[encoded data removed]",
      "text/plain": [
       "<Figure size 432x288 with 1 Axes>"
      ]
     },
     "metadata": {},
     "output_type": "display_data"
    }
   ],
   "source": [
    "vals1 = [dataInfo['Type_1'].value_counts()[key] for key in dataInfo['Type_1'].value_counts().index]\n",
    "vals2 = [dataInfo['Type_2'].value_counts()[key] for key in dataInfo['Type_1'].value_counts().index]\n",
    "inds = np.arange(len(dataInfo['Type_1'].value_counts().index))\n",
    "width = .45\n",
    "handles = [ptc.Patch(color='g', label='Type_1'), ptc.Patch(color='b', label='Type_2')]\n",
    "plt.bar(inds, vals1, width, color='g')\n",
    "plt.bar(inds+width, vals2, width, color='b')\n",
    "plt.gca().set_xticklabels(dataInfo['Type_1'].value_counts().index)\n",
    "plt.gca().set_xticks(inds+width)\n",
    "plt.xticks(rotation=90)\n",
    "plt.legend(handles=handles)\n",
    "pass"
   ]
  },
  {
   "cell_type": "markdown",
   "metadata": {},
   "source": [
    "Total для легендарных покемонов по отдельным типам:"
   ]
  },
  {
   "cell_type": "code",
   "execution_count": 14,
   "metadata": {},
   "outputs": [
    {
     "data": {
      "image/png": "[encoded data removed]",
      "text/plain": [
       "<Figure size 720x432 with 1 Axes>"
      ]
     },
     "metadata": {},
     "output_type": "display_data"
    }
   ],
   "source": [
    "plt.figure(figsize=(10,6))\n",
    "top_types=dataInfo['Type_1'].value_counts()[:10] \n",
    "df1=dataInfo[dataInfo['Type_1'].isin(top_types.index)]\n",
    "sbn.swarmplot(x='Type_1',y='Total',data=dataInfo, hue='Legendary')\n",
    "plt.show()"
   ]
  },
  {
   "cell_type": "markdown",
   "metadata": {},
   "source": [
    "### Перед нами будет стоять задача по определению легендарности покемона на основе его характиристик."
   ]
  },
  {
   "cell_type": "markdown",
   "metadata": {},
   "source": [
    "#### Подготовка данных"
   ]
  },
  {
   "cell_type": "markdown",
   "metadata": {},
   "source": [
    "Алгоритмы машинного обучения из библиотеки scikit-learn не работают напрямую с категориальными признаками и данными, в которых имеются пропущенные значения. Поэтому вначале подготовим наши данные."
   ]
  },
  {
   "cell_type": "code",
   "execution_count": 15,
   "metadata": {},
   "outputs": [
    {
     "data": {
      "text/plain": [
       "Type_1        800\n",
       "Type_2        414\n",
       "Total         800\n",
       "HP            800\n",
       "Attack        800\n",
       "Defense       800\n",
       "Sp_Atk        800\n",
       "Sp_Def        800\n",
       "Speed         800\n",
       "Generation    800\n",
       "Legendary     800\n",
       "dtype: int64"
      ]
     },
     "execution_count": 15,
     "metadata": {},
     "output_type": "execute_result"
    }
   ],
   "source": [
    "dataInfo.count(axis=0)"
   ]
  },
  {
   "cell_type": "markdown",
   "metadata": {},
   "source": [
    "Можно увидеть, что почти для половины покемонов не указан второй признак."
   ]
  },
  {
   "cell_type": "code",
   "execution_count": 16,
   "metadata": {},
   "outputs": [
    {
     "data": {
      "text/html": [
       "<div>\n",
       "<style scoped>\n",
       "    .dataframe tbody tr th:only-of-type {\n",
       "        vertical-align: middle;\n",
       "    }\n",
       "\n",
       "    .dataframe tbody tr th {\n",
       "        vertical-align: top;\n",
       "    }\n",
       "\n",
       "    .dataframe thead th {\n",
       "        text-align: right;\n",
       "    }\n",
       "</style>\n",
       "<table border=\"1\" class=\"dataframe\">\n",
       "  <thead>\n",
       "    <tr style=\"text-align: right;\">\n",
       "      <th></th>\n",
       "      <th>Type_1</th>\n",
       "      <th>Type_2</th>\n",
       "      <th>Total</th>\n",
       "      <th>HP</th>\n",
       "      <th>Attack</th>\n",
       "      <th>Defense</th>\n",
       "      <th>Sp_Atk</th>\n",
       "      <th>Sp_Def</th>\n",
       "      <th>Speed</th>\n",
       "      <th>Generation</th>\n",
       "      <th>Legendary</th>\n",
       "    </tr>\n",
       "  </thead>\n",
       "  <tbody>\n",
       "    <tr>\n",
       "      <th>4</th>\n",
       "      <td>Fire</td>\n",
       "      <td>NaN</td>\n",
       "      <td>309</td>\n",
       "      <td>39</td>\n",
       "      <td>52</td>\n",
       "      <td>43</td>\n",
       "      <td>60</td>\n",
       "      <td>50</td>\n",
       "      <td>65</td>\n",
       "      <td>1</td>\n",
       "      <td>False</td>\n",
       "    </tr>\n",
       "    <tr>\n",
       "      <th>5</th>\n",
       "      <td>Fire</td>\n",
       "      <td>NaN</td>\n",
       "      <td>405</td>\n",
       "      <td>58</td>\n",
       "      <td>64</td>\n",
       "      <td>58</td>\n",
       "      <td>80</td>\n",
       "      <td>65</td>\n",
       "      <td>80</td>\n",
       "      <td>1</td>\n",
       "      <td>False</td>\n",
       "    </tr>\n",
       "    <tr>\n",
       "      <th>9</th>\n",
       "      <td>Water</td>\n",
       "      <td>NaN</td>\n",
       "      <td>314</td>\n",
       "      <td>44</td>\n",
       "      <td>48</td>\n",
       "      <td>65</td>\n",
       "      <td>50</td>\n",
       "      <td>64</td>\n",
       "      <td>43</td>\n",
       "      <td>1</td>\n",
       "      <td>False</td>\n",
       "    </tr>\n",
       "    <tr>\n",
       "      <th>10</th>\n",
       "      <td>Water</td>\n",
       "      <td>NaN</td>\n",
       "      <td>405</td>\n",
       "      <td>59</td>\n",
       "      <td>63</td>\n",
       "      <td>80</td>\n",
       "      <td>65</td>\n",
       "      <td>80</td>\n",
       "      <td>58</td>\n",
       "      <td>1</td>\n",
       "      <td>False</td>\n",
       "    </tr>\n",
       "    <tr>\n",
       "      <th>11</th>\n",
       "      <td>Water</td>\n",
       "      <td>NaN</td>\n",
       "      <td>530</td>\n",
       "      <td>79</td>\n",
       "      <td>83</td>\n",
       "      <td>100</td>\n",
       "      <td>85</td>\n",
       "      <td>105</td>\n",
       "      <td>78</td>\n",
       "      <td>1</td>\n",
       "      <td>False</td>\n",
       "    </tr>\n",
       "  </tbody>\n",
       "</table>\n",
       "</div>"
      ],
      "text/plain": [
       "   Type_1 Type_2  Total  HP  Attack  Defense  Sp_Atk  Sp_Def  Speed  \\\n",
       "4    Fire    NaN    309  39      52       43      60      50     65   \n",
       "5    Fire    NaN    405  58      64       58      80      65     80   \n",
       "9   Water    NaN    314  44      48       65      50      64     43   \n",
       "10  Water    NaN    405  59      63       80      65      80     58   \n",
       "11  Water    NaN    530  79      83      100      85     105     78   \n",
       "\n",
       "    Generation  Legendary  \n",
       "4            1      False  \n",
       "5            1      False  \n",
       "9            1      False  \n",
       "10           1      False  \n",
       "11           1      False  "
      ]
     },
     "execution_count": 16,
     "metadata": {},
     "output_type": "execute_result"
    }
   ],
   "source": [
    "dataInfo[dataInfo.Type_2.isnull()].head()"
   ]
  },
  {
   "cell_type": "code",
   "execution_count": 17,
   "metadata": {},
   "outputs": [
    {
     "data": {
      "text/plain": [
       "array(['Grass', 'Fire', 'Water', 'Bug', 'Normal', 'Poison', 'Electric',\n",
       "       'Ground', 'Fairy', 'Fighting', 'Psychic', 'Rock', 'Ghost', 'Ice',\n",
       "       'Dragon', 'Dark', 'Steel', 'Flying'], dtype=object)"
      ]
     },
     "execution_count": 17,
     "metadata": {},
     "output_type": "execute_result"
    }
   ],
   "source": [
    "dataInfo['Type_1'].unique()"
   ]
  },
  {
   "cell_type": "code",
   "execution_count": 18,
   "metadata": {},
   "outputs": [
    {
     "data": {
      "text/plain": [
       "array(['Poison', nan, 'Flying', 'Dragon', 'Ground', 'Fairy', 'Grass',\n",
       "       'Fighting', 'Psychic', 'Steel', 'Ice', 'Rock', 'Dark', 'Water',\n",
       "       'Electric', 'Fire', 'Ghost', 'Bug', 'Normal'], dtype=object)"
      ]
     },
     "execution_count": 18,
     "metadata": {},
     "output_type": "execute_result"
    }
   ],
   "source": [
    "dataInfo['Type_2'].unique()"
   ]
  },
  {
   "cell_type": "markdown",
   "metadata": {},
   "source": [
    "Type_2 является категориальным признаком, есть два варианта, как поступить с незаполнеными значениями: заполнение пропущенных значений самым популярным в столбце или удалить этот столбец."
   ]
  },
  {
   "cell_type": "code",
   "execution_count": 19,
   "metadata": {},
   "outputs": [
    {
     "data": {
      "text/plain": [
       "count        414\n",
       "unique        18\n",
       "top       Flying\n",
       "freq          97\n",
       "Name: Type_2, dtype: object"
      ]
     },
     "execution_count": 19,
     "metadata": {},
     "output_type": "execute_result"
    }
   ],
   "source": [
    "dataInfo['Type_2'].describe()"
   ]
  },
  {
   "cell_type": "markdown",
   "metadata": {},
   "source": [
    "Самый частый встречающийся Type_2 - это \"Летающий\", однако добавлять покемонам у которых нет второго типа такую способность будет неверным шагом, поэтому было решено удалить эту колонку для дальнейших вычислений."
   ]
  },
  {
   "cell_type": "code",
   "execution_count": 20,
   "metadata": {},
   "outputs": [],
   "source": [
    "dataInfo = dataInfo.drop('Type_2', axis=1)"
   ]
  },
  {
   "cell_type": "markdown",
   "metadata": {},
   "source": [
    "А так же уберем сумму всех статистических данных:"
   ]
  },
  {
   "cell_type": "code",
   "execution_count": 21,
   "metadata": {},
   "outputs": [],
   "source": [
    "dataInfo = dataInfo.drop('Total', axis=1)"
   ]
  },
  {
   "cell_type": "code",
   "execution_count": 22,
   "metadata": {},
   "outputs": [
    {
     "data": {
      "text/html": [
       "<div>\n",
       "<style scoped>\n",
       "    .dataframe tbody tr th:only-of-type {\n",
       "        vertical-align: middle;\n",
       "    }\n",
       "\n",
       "    .dataframe tbody tr th {\n",
       "        vertical-align: top;\n",
       "    }\n",
       "\n",
       "    .dataframe thead th {\n",
       "        text-align: right;\n",
       "    }\n",
       "</style>\n",
       "<table border=\"1\" class=\"dataframe\">\n",
       "  <thead>\n",
       "    <tr style=\"text-align: right;\">\n",
       "      <th></th>\n",
       "      <th>HP</th>\n",
       "      <th>Attack</th>\n",
       "      <th>Defense</th>\n",
       "      <th>Sp_Atk</th>\n",
       "      <th>Sp_Def</th>\n",
       "      <th>Speed</th>\n",
       "      <th>Generation</th>\n",
       "    </tr>\n",
       "  </thead>\n",
       "  <tbody>\n",
       "    <tr>\n",
       "      <th>count</th>\n",
       "      <td>800.000000</td>\n",
       "      <td>800.000000</td>\n",
       "      <td>800.000000</td>\n",
       "      <td>800.000000</td>\n",
       "      <td>800.000000</td>\n",
       "      <td>800.000000</td>\n",
       "      <td>800.00000</td>\n",
       "    </tr>\n",
       "    <tr>\n",
       "      <th>mean</th>\n",
       "      <td>69.258750</td>\n",
       "      <td>79.001250</td>\n",
       "      <td>73.842500</td>\n",
       "      <td>72.820000</td>\n",
       "      <td>71.902500</td>\n",
       "      <td>68.277500</td>\n",
       "      <td>3.32375</td>\n",
       "    </tr>\n",
       "    <tr>\n",
       "      <th>std</th>\n",
       "      <td>25.534669</td>\n",
       "      <td>32.457366</td>\n",
       "      <td>31.183501</td>\n",
       "      <td>32.722294</td>\n",
       "      <td>27.828916</td>\n",
       "      <td>29.060474</td>\n",
       "      <td>1.66129</td>\n",
       "    </tr>\n",
       "    <tr>\n",
       "      <th>min</th>\n",
       "      <td>1.000000</td>\n",
       "      <td>5.000000</td>\n",
       "      <td>5.000000</td>\n",
       "      <td>10.000000</td>\n",
       "      <td>20.000000</td>\n",
       "      <td>5.000000</td>\n",
       "      <td>1.00000</td>\n",
       "    </tr>\n",
       "    <tr>\n",
       "      <th>25%</th>\n",
       "      <td>50.000000</td>\n",
       "      <td>55.000000</td>\n",
       "      <td>50.000000</td>\n",
       "      <td>49.750000</td>\n",
       "      <td>50.000000</td>\n",
       "      <td>45.000000</td>\n",
       "      <td>2.00000</td>\n",
       "    </tr>\n",
       "    <tr>\n",
       "      <th>50%</th>\n",
       "      <td>65.000000</td>\n",
       "      <td>75.000000</td>\n",
       "      <td>70.000000</td>\n",
       "      <td>65.000000</td>\n",
       "      <td>70.000000</td>\n",
       "      <td>65.000000</td>\n",
       "      <td>3.00000</td>\n",
       "    </tr>\n",
       "    <tr>\n",
       "      <th>75%</th>\n",
       "      <td>80.000000</td>\n",
       "      <td>100.000000</td>\n",
       "      <td>90.000000</td>\n",
       "      <td>95.000000</td>\n",
       "      <td>90.000000</td>\n",
       "      <td>90.000000</td>\n",
       "      <td>5.00000</td>\n",
       "    </tr>\n",
       "    <tr>\n",
       "      <th>max</th>\n",
       "      <td>255.000000</td>\n",
       "      <td>190.000000</td>\n",
       "      <td>230.000000</td>\n",
       "      <td>194.000000</td>\n",
       "      <td>230.000000</td>\n",
       "      <td>180.000000</td>\n",
       "      <td>6.00000</td>\n",
       "    </tr>\n",
       "  </tbody>\n",
       "</table>\n",
       "</div>"
      ],
      "text/plain": [
       "               HP      Attack     Defense      Sp_Atk      Sp_Def       Speed  \\\n",
       "count  800.000000  800.000000  800.000000  800.000000  800.000000  800.000000   \n",
       "mean    69.258750   79.001250   73.842500   72.820000   71.902500   68.277500   \n",
       "std     25.534669   32.457366   31.183501   32.722294   27.828916   29.060474   \n",
       "min      1.000000    5.000000    5.000000   10.000000   20.000000    5.000000   \n",
       "25%     50.000000   55.000000   50.000000   49.750000   50.000000   45.000000   \n",
       "50%     65.000000   75.000000   70.000000   65.000000   70.000000   65.000000   \n",
       "75%     80.000000  100.000000   90.000000   95.000000   90.000000   90.000000   \n",
       "max    255.000000  190.000000  230.000000  194.000000  230.000000  180.000000   \n",
       "\n",
       "       Generation  \n",
       "count   800.00000  \n",
       "mean      3.32375  \n",
       "std       1.66129  \n",
       "min       1.00000  \n",
       "25%       2.00000  \n",
       "50%       3.00000  \n",
       "75%       5.00000  \n",
       "max       6.00000  "
      ]
     },
     "execution_count": 22,
     "metadata": {},
     "output_type": "execute_result"
    }
   ],
   "source": [
    "dataInfo.describe()"
   ]
  },
  {
   "cell_type": "markdown",
   "metadata": {},
   "source": [
    "#### Категориальные и числовые признаки:"
   ]
  },
  {
   "cell_type": "code",
   "execution_count": 23,
   "metadata": {},
   "outputs": [
    {
     "name": "stdout",
     "output_type": "stream",
     "text": [
      "['Type_1']\n",
      "['HP', 'Attack', 'Defense', 'Sp_Atk', 'Sp_Def', 'Speed', 'Generation', 'Legendary']\n"
     ]
    }
   ],
   "source": [
    "categorical_columns = [c for c in dataInfo.columns if dataInfo[c].dtype.name == 'object']\n",
    "numerical_columns   = [c for c in dataInfo.columns if dataInfo[c].dtype.name != 'object']\n",
    "print (categorical_columns)\n",
    "print (numerical_columns)"
   ]
  },
  {
   "cell_type": "markdown",
   "metadata": {},
   "source": [
    "#### Небинарные признаки"
   ]
  },
  {
   "cell_type": "markdown",
   "metadata": {},
   "source": [
    "Применим метод векторизации"
   ]
  },
  {
   "cell_type": "code",
   "execution_count": 24,
   "metadata": {},
   "outputs": [],
   "source": [
    "data_nonbinary = dataInfo['Type_1'].astype('category').cat.codes\n",
    "y = np.array([1 if it == True else 0 for it in dataInfo['Legendary']])\n",
    "data = dataInfo.drop('Legendary', axis=1)"
   ]
  },
  {
   "cell_type": "code",
   "execution_count": 25,
   "metadata": {},
   "outputs": [
    {
     "name": "stdout",
     "output_type": "stream",
     "text": [
      "['Type_1']\n",
      "['HP', 'Attack', 'Defense', 'Sp_Atk', 'Sp_Def', 'Speed', 'Generation']\n"
     ]
    }
   ],
   "source": [
    "categorical_columns = [c for c in data.columns if data[c].dtype.name == 'object']\n",
    "numerical_columns   = [c for c in data.columns if data[c].dtype.name != 'object']\n",
    "print (categorical_columns)\n",
    "print (numerical_columns)"
   ]
  },
  {
   "cell_type": "markdown",
   "metadata": {},
   "source": [
    "#### Нормализация количественных признаков"
   ]
  },
  {
   "cell_type": "code",
   "execution_count": 26,
   "metadata": {},
   "outputs": [
    {
     "data": {
      "text/html": [
       "<div>\n",
       "<style scoped>\n",
       "    .dataframe tbody tr th:only-of-type {\n",
       "        vertical-align: middle;\n",
       "    }\n",
       "\n",
       "    .dataframe tbody tr th {\n",
       "        vertical-align: top;\n",
       "    }\n",
       "\n",
       "    .dataframe thead th {\n",
       "        text-align: right;\n",
       "    }\n",
       "</style>\n",
       "<table border=\"1\" class=\"dataframe\">\n",
       "  <thead>\n",
       "    <tr style=\"text-align: right;\">\n",
       "      <th></th>\n",
       "      <th>HP</th>\n",
       "      <th>Attack</th>\n",
       "      <th>Defense</th>\n",
       "      <th>Sp_Atk</th>\n",
       "      <th>Sp_Def</th>\n",
       "      <th>Speed</th>\n",
       "      <th>Generation</th>\n",
       "    </tr>\n",
       "  </thead>\n",
       "  <tbody>\n",
       "    <tr>\n",
       "      <th>count</th>\n",
       "      <td>800.000000</td>\n",
       "      <td>800.000000</td>\n",
       "      <td>800.000000</td>\n",
       "      <td>800.000000</td>\n",
       "      <td>800.000000</td>\n",
       "      <td>800.000000</td>\n",
       "      <td>800.00000</td>\n",
       "    </tr>\n",
       "    <tr>\n",
       "      <th>mean</th>\n",
       "      <td>69.258750</td>\n",
       "      <td>79.001250</td>\n",
       "      <td>73.842500</td>\n",
       "      <td>72.820000</td>\n",
       "      <td>71.902500</td>\n",
       "      <td>68.277500</td>\n",
       "      <td>3.32375</td>\n",
       "    </tr>\n",
       "    <tr>\n",
       "      <th>std</th>\n",
       "      <td>25.534669</td>\n",
       "      <td>32.457366</td>\n",
       "      <td>31.183501</td>\n",
       "      <td>32.722294</td>\n",
       "      <td>27.828916</td>\n",
       "      <td>29.060474</td>\n",
       "      <td>1.66129</td>\n",
       "    </tr>\n",
       "    <tr>\n",
       "      <th>min</th>\n",
       "      <td>1.000000</td>\n",
       "      <td>5.000000</td>\n",
       "      <td>5.000000</td>\n",
       "      <td>10.000000</td>\n",
       "      <td>20.000000</td>\n",
       "      <td>5.000000</td>\n",
       "      <td>1.00000</td>\n",
       "    </tr>\n",
       "    <tr>\n",
       "      <th>25%</th>\n",
       "      <td>50.000000</td>\n",
       "      <td>55.000000</td>\n",
       "      <td>50.000000</td>\n",
       "      <td>49.750000</td>\n",
       "      <td>50.000000</td>\n",
       "      <td>45.000000</td>\n",
       "      <td>2.00000</td>\n",
       "    </tr>\n",
       "    <tr>\n",
       "      <th>50%</th>\n",
       "      <td>65.000000</td>\n",
       "      <td>75.000000</td>\n",
       "      <td>70.000000</td>\n",
       "      <td>65.000000</td>\n",
       "      <td>70.000000</td>\n",
       "      <td>65.000000</td>\n",
       "      <td>3.00000</td>\n",
       "    </tr>\n",
       "    <tr>\n",
       "      <th>75%</th>\n",
       "      <td>80.000000</td>\n",
       "      <td>100.000000</td>\n",
       "      <td>90.000000</td>\n",
       "      <td>95.000000</td>\n",
       "      <td>90.000000</td>\n",
       "      <td>90.000000</td>\n",
       "      <td>5.00000</td>\n",
       "    </tr>\n",
       "    <tr>\n",
       "      <th>max</th>\n",
       "      <td>255.000000</td>\n",
       "      <td>190.000000</td>\n",
       "      <td>230.000000</td>\n",
       "      <td>194.000000</td>\n",
       "      <td>230.000000</td>\n",
       "      <td>180.000000</td>\n",
       "      <td>6.00000</td>\n",
       "    </tr>\n",
       "  </tbody>\n",
       "</table>\n",
       "</div>"
      ],
      "text/plain": [
       "               HP      Attack     Defense      Sp_Atk      Sp_Def       Speed  \\\n",
       "count  800.000000  800.000000  800.000000  800.000000  800.000000  800.000000   \n",
       "mean    69.258750   79.001250   73.842500   72.820000   71.902500   68.277500   \n",
       "std     25.534669   32.457366   31.183501   32.722294   27.828916   29.060474   \n",
       "min      1.000000    5.000000    5.000000   10.000000   20.000000    5.000000   \n",
       "25%     50.000000   55.000000   50.000000   49.750000   50.000000   45.000000   \n",
       "50%     65.000000   75.000000   70.000000   65.000000   70.000000   65.000000   \n",
       "75%     80.000000  100.000000   90.000000   95.000000   90.000000   90.000000   \n",
       "max    255.000000  190.000000  230.000000  194.000000  230.000000  180.000000   \n",
       "\n",
       "       Generation  \n",
       "count   800.00000  \n",
       "mean      3.32375  \n",
       "std       1.66129  \n",
       "min       1.00000  \n",
       "25%       2.00000  \n",
       "50%       3.00000  \n",
       "75%       5.00000  \n",
       "max       6.00000  "
      ]
     },
     "execution_count": 26,
     "metadata": {},
     "output_type": "execute_result"
    }
   ],
   "source": [
    "data_numerical = data[numerical_columns]\n",
    "data_numerical.describe()"
   ]
  },
  {
   "cell_type": "code",
   "execution_count": 27,
   "metadata": {},
   "outputs": [
    {
     "data": {
      "text/html": [
       "<div>\n",
       "<style scoped>\n",
       "    .dataframe tbody tr th:only-of-type {\n",
       "        vertical-align: middle;\n",
       "    }\n",
       "\n",
       "    .dataframe tbody tr th {\n",
       "        vertical-align: top;\n",
       "    }\n",
       "\n",
       "    .dataframe thead th {\n",
       "        text-align: right;\n",
       "    }\n",
       "</style>\n",
       "<table border=\"1\" class=\"dataframe\">\n",
       "  <thead>\n",
       "    <tr style=\"text-align: right;\">\n",
       "      <th></th>\n",
       "      <th>HP</th>\n",
       "      <th>Attack</th>\n",
       "      <th>Defense</th>\n",
       "      <th>Sp_Atk</th>\n",
       "      <th>Sp_Def</th>\n",
       "      <th>Speed</th>\n",
       "      <th>Generation</th>\n",
       "    </tr>\n",
       "  </thead>\n",
       "  <tbody>\n",
       "    <tr>\n",
       "      <th>count</th>\n",
       "      <td>8.000000e+02</td>\n",
       "      <td>8.000000e+02</td>\n",
       "      <td>8.000000e+02</td>\n",
       "      <td>8.000000e+02</td>\n",
       "      <td>8.000000e+02</td>\n",
       "      <td>8.000000e+02</td>\n",
       "      <td>8.000000e+02</td>\n",
       "    </tr>\n",
       "    <tr>\n",
       "      <th>mean</th>\n",
       "      <td>-5.410949e-16</td>\n",
       "      <td>2.553513e-17</td>\n",
       "      <td>5.828671e-18</td>\n",
       "      <td>2.295386e-16</td>\n",
       "      <td>-2.584044e-16</td>\n",
       "      <td>-1.208669e-16</td>\n",
       "      <td>2.837175e-15</td>\n",
       "    </tr>\n",
       "    <tr>\n",
       "      <th>std</th>\n",
       "      <td>1.000000e+00</td>\n",
       "      <td>1.000000e+00</td>\n",
       "      <td>1.000000e+00</td>\n",
       "      <td>1.000000e+00</td>\n",
       "      <td>1.000000e+00</td>\n",
       "      <td>1.000000e+00</td>\n",
       "      <td>1.000000e+00</td>\n",
       "    </tr>\n",
       "    <tr>\n",
       "      <th>min</th>\n",
       "      <td>-2.673179e+00</td>\n",
       "      <td>-2.279952e+00</td>\n",
       "      <td>-2.207658e+00</td>\n",
       "      <td>-1.919792e+00</td>\n",
       "      <td>-1.865056e+00</td>\n",
       "      <td>-2.177442e+00</td>\n",
       "      <td>-1.398762e+00</td>\n",
       "    </tr>\n",
       "    <tr>\n",
       "      <th>25%</th>\n",
       "      <td>-7.542197e-01</td>\n",
       "      <td>-7.394701e-01</td>\n",
       "      <td>-7.645870e-01</td>\n",
       "      <td>-7.050239e-01</td>\n",
       "      <td>-7.870411e-01</td>\n",
       "      <td>-8.010021e-01</td>\n",
       "      <td>-7.968204e-01</td>\n",
       "    </tr>\n",
       "    <tr>\n",
       "      <th>50%</th>\n",
       "      <td>-1.667831e-01</td>\n",
       "      <td>-1.232771e-01</td>\n",
       "      <td>-1.232222e-01</td>\n",
       "      <td>-2.389808e-01</td>\n",
       "      <td>-6.836414e-02</td>\n",
       "      <td>-1.127821e-01</td>\n",
       "      <td>-1.948786e-01</td>\n",
       "    </tr>\n",
       "    <tr>\n",
       "      <th>75%</th>\n",
       "      <td>4.206536e-01</td>\n",
       "      <td>6.469641e-01</td>\n",
       "      <td>5.181426e-01</td>\n",
       "      <td>6.778253e-01</td>\n",
       "      <td>6.503128e-01</td>\n",
       "      <td>7.474930e-01</td>\n",
       "      <td>1.009005e+00</td>\n",
       "    </tr>\n",
       "    <tr>\n",
       "      <th>max</th>\n",
       "      <td>7.274081e+00</td>\n",
       "      <td>3.419832e+00</td>\n",
       "      <td>5.007696e+00</td>\n",
       "      <td>3.703286e+00</td>\n",
       "      <td>5.681051e+00</td>\n",
       "      <td>3.844483e+00</td>\n",
       "      <td>1.610947e+00</td>\n",
       "    </tr>\n",
       "  </tbody>\n",
       "</table>\n",
       "</div>"
      ],
      "text/plain": [
       "                 HP        Attack       Defense        Sp_Atk        Sp_Def  \\\n",
       "count  8.000000e+02  8.000000e+02  8.000000e+02  8.000000e+02  8.000000e+02   \n",
       "mean  -5.410949e-16  2.553513e-17  5.828671e-18  2.295386e-16 -2.584044e-16   \n",
       "std    1.000000e+00  1.000000e+00  1.000000e+00  1.000000e+00  1.000000e+00   \n",
       "min   -2.673179e+00 -2.279952e+00 -2.207658e+00 -1.919792e+00 -1.865056e+00   \n",
       "25%   -7.542197e-01 -7.394701e-01 -7.645870e-01 -7.050239e-01 -7.870411e-01   \n",
       "50%   -1.667831e-01 -1.232771e-01 -1.232222e-01 -2.389808e-01 -6.836414e-02   \n",
       "75%    4.206536e-01  6.469641e-01  5.181426e-01  6.778253e-01  6.503128e-01   \n",
       "max    7.274081e+00  3.419832e+00  5.007696e+00  3.703286e+00  5.681051e+00   \n",
       "\n",
       "              Speed    Generation  \n",
       "count  8.000000e+02  8.000000e+02  \n",
       "mean  -1.208669e-16  2.837175e-15  \n",
       "std    1.000000e+00  1.000000e+00  \n",
       "min   -2.177442e+00 -1.398762e+00  \n",
       "25%   -8.010021e-01 -7.968204e-01  \n",
       "50%   -1.127821e-01 -1.948786e-01  \n",
       "75%    7.474930e-01  1.009005e+00  \n",
       "max    3.844483e+00  1.610947e+00  "
      ]
     },
     "execution_count": 27,
     "metadata": {},
     "output_type": "execute_result"
    }
   ],
   "source": [
    "data_numerical = (data_numerical - data_numerical.mean(axis = 0))/data_numerical.std(axis = 0)\n",
    "data_numerical.describe()"
   ]
  },
  {
   "cell_type": "code",
   "execution_count": 28,
   "metadata": {},
   "outputs": [
    {
     "name": "stdout",
     "output_type": "stream",
     "text": [
      "(800, 8)\n",
      "Index(['HP', 'Attack', 'Defense', 'Sp_Atk', 'Sp_Def', 'Speed', 'Generation',\n",
      "       'Type'],\n",
      "      dtype='object')\n"
     ]
    }
   ],
   "source": [
    "data = data_numerical\n",
    "data['Type'] = data_nonbinary\n",
    "print(data.shape)\n",
    "print (data.columns)"
   ]
  },
  {
   "cell_type": "code",
   "execution_count": 29,
   "metadata": {},
   "outputs": [
    {
     "data": {
      "text/html": [
       "<div>\n",
       "<style scoped>\n",
       "    .dataframe tbody tr th:only-of-type {\n",
       "        vertical-align: middle;\n",
       "    }\n",
       "\n",
       "    .dataframe tbody tr th {\n",
       "        vertical-align: top;\n",
       "    }\n",
       "\n",
       "    .dataframe thead th {\n",
       "        text-align: right;\n",
       "    }\n",
       "</style>\n",
       "<table border=\"1\" class=\"dataframe\">\n",
       "  <thead>\n",
       "    <tr style=\"text-align: right;\">\n",
       "      <th></th>\n",
       "      <th>HP</th>\n",
       "      <th>Attack</th>\n",
       "      <th>Defense</th>\n",
       "      <th>Sp_Atk</th>\n",
       "      <th>Sp_Def</th>\n",
       "      <th>Speed</th>\n",
       "      <th>Generation</th>\n",
       "      <th>Type</th>\n",
       "    </tr>\n",
       "  </thead>\n",
       "  <tbody>\n",
       "    <tr>\n",
       "      <th>count</th>\n",
       "      <td>8.000000e+02</td>\n",
       "      <td>8.000000e+02</td>\n",
       "      <td>8.000000e+02</td>\n",
       "      <td>8.000000e+02</td>\n",
       "      <td>8.000000e+02</td>\n",
       "      <td>8.000000e+02</td>\n",
       "      <td>8.000000e+02</td>\n",
       "      <td>800.000000</td>\n",
       "    </tr>\n",
       "    <tr>\n",
       "      <th>mean</th>\n",
       "      <td>-5.410949e-16</td>\n",
       "      <td>2.553513e-17</td>\n",
       "      <td>5.828671e-18</td>\n",
       "      <td>2.295386e-16</td>\n",
       "      <td>-2.584044e-16</td>\n",
       "      <td>-1.208669e-16</td>\n",
       "      <td>2.837175e-15</td>\n",
       "      <td>9.467500</td>\n",
       "    </tr>\n",
       "    <tr>\n",
       "      <th>std</th>\n",
       "      <td>1.000000e+00</td>\n",
       "      <td>1.000000e+00</td>\n",
       "      <td>1.000000e+00</td>\n",
       "      <td>1.000000e+00</td>\n",
       "      <td>1.000000e+00</td>\n",
       "      <td>1.000000e+00</td>\n",
       "      <td>1.000000e+00</td>\n",
       "      <td>5.580356</td>\n",
       "    </tr>\n",
       "    <tr>\n",
       "      <th>min</th>\n",
       "      <td>-2.673179e+00</td>\n",
       "      <td>-2.279952e+00</td>\n",
       "      <td>-2.207658e+00</td>\n",
       "      <td>-1.919792e+00</td>\n",
       "      <td>-1.865056e+00</td>\n",
       "      <td>-2.177442e+00</td>\n",
       "      <td>-1.398762e+00</td>\n",
       "      <td>0.000000</td>\n",
       "    </tr>\n",
       "    <tr>\n",
       "      <th>25%</th>\n",
       "      <td>-7.542197e-01</td>\n",
       "      <td>-7.394701e-01</td>\n",
       "      <td>-7.645870e-01</td>\n",
       "      <td>-7.050239e-01</td>\n",
       "      <td>-7.870411e-01</td>\n",
       "      <td>-8.010021e-01</td>\n",
       "      <td>-7.968204e-01</td>\n",
       "      <td>5.000000</td>\n",
       "    </tr>\n",
       "    <tr>\n",
       "      <th>50%</th>\n",
       "      <td>-1.667831e-01</td>\n",
       "      <td>-1.232771e-01</td>\n",
       "      <td>-1.232222e-01</td>\n",
       "      <td>-2.389808e-01</td>\n",
       "      <td>-6.836414e-02</td>\n",
       "      <td>-1.127821e-01</td>\n",
       "      <td>-1.948786e-01</td>\n",
       "      <td>10.000000</td>\n",
       "    </tr>\n",
       "    <tr>\n",
       "      <th>75%</th>\n",
       "      <td>4.206536e-01</td>\n",
       "      <td>6.469641e-01</td>\n",
       "      <td>5.181426e-01</td>\n",
       "      <td>6.778253e-01</td>\n",
       "      <td>6.503128e-01</td>\n",
       "      <td>7.474930e-01</td>\n",
       "      <td>1.009005e+00</td>\n",
       "      <td>14.000000</td>\n",
       "    </tr>\n",
       "    <tr>\n",
       "      <th>max</th>\n",
       "      <td>7.274081e+00</td>\n",
       "      <td>3.419832e+00</td>\n",
       "      <td>5.007696e+00</td>\n",
       "      <td>3.703286e+00</td>\n",
       "      <td>5.681051e+00</td>\n",
       "      <td>3.844483e+00</td>\n",
       "      <td>1.610947e+00</td>\n",
       "      <td>17.000000</td>\n",
       "    </tr>\n",
       "  </tbody>\n",
       "</table>\n",
       "</div>"
      ],
      "text/plain": [
       "                 HP        Attack       Defense        Sp_Atk        Sp_Def  \\\n",
       "count  8.000000e+02  8.000000e+02  8.000000e+02  8.000000e+02  8.000000e+02   \n",
       "mean  -5.410949e-16  2.553513e-17  5.828671e-18  2.295386e-16 -2.584044e-16   \n",
       "std    1.000000e+00  1.000000e+00  1.000000e+00  1.000000e+00  1.000000e+00   \n",
       "min   -2.673179e+00 -2.279952e+00 -2.207658e+00 -1.919792e+00 -1.865056e+00   \n",
       "25%   -7.542197e-01 -7.394701e-01 -7.645870e-01 -7.050239e-01 -7.870411e-01   \n",
       "50%   -1.667831e-01 -1.232771e-01 -1.232222e-01 -2.389808e-01 -6.836414e-02   \n",
       "75%    4.206536e-01  6.469641e-01  5.181426e-01  6.778253e-01  6.503128e-01   \n",
       "max    7.274081e+00  3.419832e+00  5.007696e+00  3.703286e+00  5.681051e+00   \n",
       "\n",
       "              Speed    Generation        Type  \n",
       "count  8.000000e+02  8.000000e+02  800.000000  \n",
       "mean  -1.208669e-16  2.837175e-15    9.467500  \n",
       "std    1.000000e+00  1.000000e+00    5.580356  \n",
       "min   -2.177442e+00 -1.398762e+00    0.000000  \n",
       "25%   -8.010021e-01 -7.968204e-01    5.000000  \n",
       "50%   -1.127821e-01 -1.948786e-01   10.000000  \n",
       "75%    7.474930e-01  1.009005e+00   14.000000  \n",
       "max    3.844483e+00  1.610947e+00   17.000000  "
      ]
     },
     "execution_count": 29,
     "metadata": {},
     "output_type": "execute_result"
    }
   ],
   "source": [
    "data.describe()"
   ]
  },
  {
   "cell_type": "code",
   "execution_count": 30,
   "metadata": {},
   "outputs": [
    {
     "name": "stdout",
     "output_type": "stream",
     "text": [
      "Index(['HP', 'Attack', 'Defense', 'Sp_Atk', 'Sp_Def', 'Speed', 'Generation',\n",
      "       'Type'],\n",
      "      dtype='object')\n"
     ]
    }
   ],
   "source": [
    "Z = data\n",
    "names = Z.columns\n",
    "print(names)"
   ]
  },
  {
   "cell_type": "code",
   "execution_count": 31,
   "metadata": {},
   "outputs": [
    {
     "name": "stdout",
     "output_type": "stream",
     "text": [
      "(800, 8)\n"
     ]
    }
   ],
   "source": [
    "print(Z.shape)\n",
    "N, d = Z.shape"
   ]
  },
  {
   "cell_type": "markdown",
   "metadata": {},
   "source": [
    "#### Обучающая и тестовая выборки"
   ]
  },
  {
   "cell_type": "code",
   "execution_count": 32,
   "metadata": {},
   "outputs": [
    {
     "name": "stdout",
     "output_type": "stream",
     "text": [
      "560 240\n"
     ]
    }
   ],
   "source": [
    "from sklearn.model_selection import train_test_split\n",
    "X_train, X_test, y_train, y_test = train_test_split(Z, y, test_size = 0.3, random_state = 1)\n",
    "\n",
    "N_train, _ = X_train.shape \n",
    "N_test,  _ = X_test.shape \n",
    "\n",
    "print(N_train, N_test)"
   ]
  },
  {
   "cell_type": "code",
   "execution_count": 33,
   "metadata": {},
   "outputs": [],
   "source": [
    "tt_errors = pd.DataFrame(columns=['model', 'train_errors', 'test_errors'])"
   ]
  },
  {
   "cell_type": "markdown",
   "metadata": {},
   "source": [
    "### KNN – метод ближайших соседей"
   ]
  },
  {
   "cell_type": "code",
   "execution_count": 34,
   "metadata": {},
   "outputs": [
    {
     "data": {
      "text/plain": [
       "KNeighborsClassifier(algorithm='auto', leaf_size=30, metric='minkowski',\n",
       "           metric_params=None, n_jobs=1, n_neighbors=10, p=2,\n",
       "           weights='uniform')"
      ]
     },
     "execution_count": 34,
     "metadata": {},
     "output_type": "execute_result"
    }
   ],
   "source": [
    "from sklearn.neighbors import KNeighborsClassifier\n",
    "\n",
    "knn = KNeighborsClassifier()\n",
    "knn.set_params(n_neighbors=10)\n",
    "knn.fit(X_train, y_train)"
   ]
  },
  {
   "cell_type": "code",
   "execution_count": 35,
   "metadata": {},
   "outputs": [
    {
     "name": "stdout",
     "output_type": "stream",
     "text": [
      "Error train: 0.06607142857142857\n",
      "Error test: 0.09166666666666666\n"
     ]
    }
   ],
   "source": [
    "y_train_predict = knn.predict(X_train)\n",
    "y_test_predict = knn.predict(X_test)\n",
    "\n",
    "err_train = np.mean(y_train != y_train_predict)\n",
    "err_test  = np.mean(y_test  != y_test_predict)\n",
    "\n",
    "print ('Error train:', err_train)\n",
    "print ('Error test:', err_test)"
   ]
  },
  {
   "cell_type": "markdown",
   "metadata": {},
   "source": [
    "#### Побор параметров"
   ]
  },
  {
   "cell_type": "code",
   "execution_count": 36,
   "metadata": {},
   "outputs": [
    {
     "name": "stdout",
     "output_type": "stream",
     "text": [
      "0.044642857142857095 1\n"
     ]
    }
   ],
   "source": [
    "from sklearn.model_selection import GridSearchCV\n",
    "nnb = [1, 3, 5, 10, 15, 20, 25, 35, 45, 55]\n",
    "knn = KNeighborsClassifier()\n",
    "grid = GridSearchCV(knn, param_grid = {'n_neighbors': nnb}, cv=10)\n",
    "grid.fit(X_train, y_train)\n",
    "\n",
    "best_cv_err = 1 - grid.best_score_\n",
    "best_n_neighbors = grid.best_estimator_.n_neighbors\n",
    "print(best_cv_err, best_n_neighbors)"
   ]
  },
  {
   "cell_type": "markdown",
   "metadata": {},
   "source": [
    "#### Запуск kNN"
   ]
  },
  {
   "cell_type": "code",
   "execution_count": 37,
   "metadata": {},
   "outputs": [
    {
     "name": "stdout",
     "output_type": "stream",
     "text": [
      "0.0 0.09583333333333334\n"
     ]
    }
   ],
   "source": [
    "knn = KNeighborsClassifier(n_neighbors = best_n_neighbors).fit(X_train, y_train)\n",
    "\n",
    "err_train = np.mean(y_train != knn.predict(X_train))\n",
    "err_test  = np.mean(y_test  != knn.predict(X_test))\n",
    "\n",
    "print(err_train, err_test)"
   ]
  },
  {
   "cell_type": "markdown",
   "metadata": {},
   "source": [
    "# ДЗ №2"
   ]
  },
  {
   "cell_type": "code",
   "execution_count": 38,
   "metadata": {},
   "outputs": [],
   "source": [
    "from sklearn.datasets import load_digits\n",
    "digits = load_digits()"
   ]
  },
  {
   "cell_type": "markdown",
   "metadata": {},
   "source": [
    "## Будем предсказывать легендарность покемона, использую нейронную сеть.\n",
    "\n",
    "Х — все столбцы, за исключением Legendary.\n",
    "\n",
    "Y — легендароность покемона (Legendary)."
   ]
  },
  {
   "cell_type": "code",
   "execution_count": 39,
   "metadata": {},
   "outputs": [],
   "source": [
    "X = data\n",
    "y = dataInfo['Legendary']"
   ]
  },
  {
   "cell_type": "code",
   "execution_count": 40,
   "metadata": {},
   "outputs": [
    {
     "name": "stdout",
     "output_type": "stream",
     "text": [
      "(800, 8)\n",
      "(800,)\n"
     ]
    }
   ],
   "source": [
    "print(X.shape)\n",
    "print(y.shape)"
   ]
  },
  {
   "cell_type": "markdown",
   "metadata": {},
   "source": [
    "Разобьем выборку на тренировочную и тестовую.\n",
    "\n",
    "Процент тестовой выборки: 30 %"
   ]
  },
  {
   "cell_type": "code",
   "execution_count": 41,
   "metadata": {},
   "outputs": [
    {
     "name": "stdout",
     "output_type": "stream",
     "text": [
      "560 240\n"
     ]
    }
   ],
   "source": [
    "from sklearn.model_selection import train_test_split\n",
    "X_train, X_test, y_train, y_test = train_test_split(X, y, test_size = 0.3, random_state = 42)\n",
    "N_test, _ = X_test.shape\n",
    "N_train, _ = X_train.shape \n",
    "\n",
    "print(N_train, N_test)"
   ]
  },
  {
   "cell_type": "markdown",
   "metadata": {},
   "source": [
    "### Обучение классификатора"
   ]
  },
  {
   "cell_type": "code",
   "execution_count": 42,
   "metadata": {},
   "outputs": [],
   "source": [
    "from sklearn.neural_network import MLPClassifier"
   ]
  },
  {
   "cell_type": "markdown",
   "metadata": {},
   "source": [
    "Данная нейронная сеть будет иметь 1 скрытый слой (добавим скрытый слой с 150 нейронами)"
   ]
  },
  {
   "cell_type": "code",
   "execution_count": 43,
   "metadata": {},
   "outputs": [
    {
     "data": {
      "text/plain": [
       "MLPClassifier(activation='logistic', alpha=0.0001, batch_size='auto',\n",
       "       beta_1=0.9, beta_2=0.999, early_stopping=False, epsilon=1e-08,\n",
       "       hidden_layer_sizes=150, learning_rate='constant',\n",
       "       learning_rate_init=0.001, max_iter=200, momentum=0.9,\n",
       "       nesterovs_momentum=True, power_t=0.5, random_state=42, shuffle=True,\n",
       "       solver='lbfgs', tol=0.0001, validation_fraction=0.1, verbose=False,\n",
       "       warm_start=False)"
      ]
     },
     "execution_count": 43,
     "metadata": {},
     "output_type": "execute_result"
    }
   ],
   "source": [
    "mlp_model = MLPClassifier(hidden_layer_sizes = (150), solver = 'lbfgs', \n",
    "                          activation = 'logistic', random_state = 42)\n",
    "mlp_model.fit(X_train, y_train)"
   ]
  },
  {
   "cell_type": "code",
   "execution_count": 44,
   "metadata": {},
   "outputs": [],
   "source": [
    "y_train_pred = mlp_model.predict(X_train)\n",
    "y_test_pred = mlp_model.predict(X_test)"
   ]
  },
  {
   "cell_type": "markdown",
   "metadata": {},
   "source": [
    "Ошибка на обучающей выборке:"
   ]
  },
  {
   "cell_type": "code",
   "execution_count": 45,
   "metadata": {},
   "outputs": [
    {
     "name": "stdout",
     "output_type": "stream",
     "text": [
      "0.0\n"
     ]
    }
   ],
   "source": [
    "print(np.mean(y_train != y_train_pred))"
   ]
  },
  {
   "cell_type": "markdown",
   "metadata": {},
   "source": [
    "Ошибка на тестовой выборке:"
   ]
  },
  {
   "cell_type": "code",
   "execution_count": 46,
   "metadata": {},
   "outputs": [
    {
     "name": "stdout",
     "output_type": "stream",
     "text": [
      "0.05416666666666667\n"
     ]
    }
   ],
   "source": [
    "print(np.mean(y_test != y_test_pred))"
   ]
  },
  {
   "cell_type": "markdown",
   "metadata": {},
   "source": [
    "Добавим еще один слой с 150 нейронами:"
   ]
  },
  {
   "cell_type": "code",
   "execution_count": 47,
   "metadata": {},
   "outputs": [
    {
     "data": {
      "text/plain": [
       "MLPClassifier(activation='logistic', alpha=0.0001, batch_size='auto',\n",
       "       beta_1=0.9, beta_2=0.999, early_stopping=False, epsilon=1e-08,\n",
       "       hidden_layer_sizes=(150, 150), learning_rate='constant',\n",
       "       learning_rate_init=0.001, max_iter=200, momentum=0.9,\n",
       "       nesterovs_momentum=True, power_t=0.5, random_state=42, shuffle=True,\n",
       "       solver='lbfgs', tol=0.0001, validation_fraction=0.1, verbose=False,\n",
       "       warm_start=False)"
      ]
     },
     "execution_count": 47,
     "metadata": {},
     "output_type": "execute_result"
    }
   ],
   "source": [
    "mlp_model = MLPClassifier(hidden_layer_sizes = (150,150), solver = 'lbfgs', \n",
    "                          activation = 'logistic', random_state = 42)\n",
    "mlp_model.fit(X_train, y_train)"
   ]
  },
  {
   "cell_type": "code",
   "execution_count": 48,
   "metadata": {},
   "outputs": [],
   "source": [
    "y_train_pred = mlp_model.predict(X_train)\n",
    "y_test_pred = mlp_model.predict(X_test)"
   ]
  },
  {
   "cell_type": "markdown",
   "metadata": {},
   "source": [
    "Ошибка на обучающей выборке:"
   ]
  },
  {
   "cell_type": "code",
   "execution_count": 49,
   "metadata": {},
   "outputs": [
    {
     "name": "stdout",
     "output_type": "stream",
     "text": [
      "0.0\n"
     ]
    }
   ],
   "source": [
    "print(np.mean(y_train != y_train_pred))"
   ]
  },
  {
   "cell_type": "markdown",
   "metadata": {},
   "source": [
    "Ошибка на тестовой выборке:"
   ]
  },
  {
   "cell_type": "code",
   "execution_count": 50,
   "metadata": {},
   "outputs": [
    {
     "name": "stdout",
     "output_type": "stream",
     "text": [
      "0.04583333333333333\n"
     ]
    }
   ],
   "source": [
    "print(np.mean(y_test != y_test_pred))"
   ]
  },
  {
   "cell_type": "markdown",
   "metadata": {},
   "source": [
    "Заметим, что ошибка на обучающей выборке в нейронной сети (с 1 и 2 скрытыми слоями) меньше, чем на тестовой. Отсюда можно сделать вывод, что имеет место переобучение."
   ]
  },
  {
   "cell_type": "markdown",
   "metadata": {},
   "source": [
    "При использовании нейронной сети с двумя скрытыми слоями ошибка меньше, чем у нейронной сети с одним скрытым слоем. Будем использовать двуслойную нейронную сеть."
   ]
  },
  {
   "cell_type": "markdown",
   "metadata": {},
   "source": [
    "### Подбор гиперпараметров"
   ]
  },
  {
   "cell_type": "markdown",
   "metadata": {},
   "source": [
    "Будем искать оптимальное значение параметра регуляризации *alpha*, используя нейронную сеть с 2 скрытыми слоями с 150 нейронами"
   ]
  },
  {
   "cell_type": "code",
   "execution_count": 51,
   "metadata": {},
   "outputs": [],
   "source": [
    "alpha_arr = np.logspace(-1, 1, 20)\n",
    "test_err = []\n",
    "train_err = []\n",
    "for alpha in alpha_arr:\n",
    "    mlp_model = MLPClassifier(alpha = alpha, hidden_layer_sizes = (150,150), \n",
    "                              solver = 'lbfgs', activation = 'logistic', random_state = 42)\n",
    "    mlp_model.fit(X_train, y_train)\n",
    "\n",
    "    y_train_pred = mlp_model.predict(X_train)\n",
    "    y_test_pred = mlp_model.predict(X_test)\n",
    "    train_err.append(np.mean(y_train != y_train_pred))\n",
    "    test_err.append(np.mean(y_test != y_test_pred))"
   ]
  },
  {
   "cell_type": "markdown",
   "metadata": {},
   "source": [
    "Построим график зависимости ошибок от *alpha*"
   ]
  },
  {
   "cell_type": "code",
   "execution_count": 52,
   "metadata": {},
   "outputs": [
    {
     "data": {
      "image/png": "[encoded data removed]",
      "text/plain": [
       "<Figure size 432x288 with 1 Axes>"
      ]
     },
     "metadata": {},
     "output_type": "display_data"
    }
   ],
   "source": [
    "plt.semilogx(alpha_arr, train_err, 'b-o', label = 'train')\n",
    "plt.semilogx(alpha_arr, test_err, 'r-o', label = 'test')\n",
    "plt.xlim([np.min(alpha_arr), np.max(alpha_arr)])\n",
    "plt.title('Error vs. alpha')\n",
    "plt.xlabel('alpha')\n",
    "plt.ylabel('error')\n",
    "plt.legend()\n",
    "pass"
   ]
  },
  {
   "cell_type": "markdown",
   "metadata": {},
   "source": [
    "Наблюдаем переобучение при значении *alpha < 1.75* (ошибка на тестовой выборке больше, чем на обучающей)"
   ]
  },
  {
   "cell_type": "code",
   "execution_count": 53,
   "metadata": {},
   "outputs": [
    {
     "name": "stdout",
     "output_type": "stream",
     "text": [
      "[ 0.1         0.1274275   0.16237767  0.20691381  0.26366509  0.33598183\n",
      "  0.42813324  0.54555948  0.6951928   0.88586679  1.12883789  1.43844989\n",
      "  1.83298071  2.33572147  2.97635144  3.79269019  4.83293024  6.15848211\n",
      "  7.8475997  10.        ]\n"
     ]
    }
   ],
   "source": [
    "print(alpha_arr)"
   ]
  },
  {
   "cell_type": "markdown",
   "metadata": {},
   "source": [
    "Найдем минимальное значение ошибки:"
   ]
  },
  {
   "cell_type": "code",
   "execution_count": 54,
   "metadata": {},
   "outputs": [
    {
     "name": "stdout",
     "output_type": "stream",
     "text": [
      "0.0017857142857142857 0.0375\n"
     ]
    }
   ],
   "source": [
    "min_train_err = np.min(train_err)\n",
    "min_test_err = np.min(test_err)\n",
    "print(min_train_err, min_test_err)"
   ]
  },
  {
   "cell_type": "markdown",
   "metadata": {},
   "source": [
    "Найдем оптимальное значение *alpha*:"
   ]
  },
  {
   "cell_type": "code",
   "execution_count": 55,
   "metadata": {},
   "outputs": [
    {
     "name": "stdout",
     "output_type": "stream",
     "text": [
      "[0.20691381 0.26366509 0.42813324]\n"
     ]
    }
   ],
   "source": [
    "alpha_opt = alpha_arr[test_err == min_test_err]\n",
    "print(alpha_opt)"
   ]
  },
  {
   "cell_type": "markdown",
   "metadata": {},
   "source": [
    "### Классификатор при оптимальном значении *alpha*"
   ]
  },
  {
   "cell_type": "code",
   "execution_count": 56,
   "metadata": {},
   "outputs": [
    {
     "name": "stdout",
     "output_type": "stream",
     "text": [
      "0.005357142857142857\n",
      "0.0375\n"
     ]
    }
   ],
   "source": [
    "\n",
    "mlp_model = MLPClassifier(alpha = alpha_opt[0], hidden_layer_sizes = (150,150),\n",
    "                          solver = 'lbfgs', activation = 'logistic', random_state = 42)\n",
    "mlp_model.fit(X_train, y_train)\n",
    "\n",
    "y_train_pred = mlp_model.predict(X_train)\n",
    "y_test_pred = mlp_model.predict(X_test)\n",
    "print(np.mean(y_train != y_train_pred))\n",
    "print(np.mean(y_test != y_test_pred))"
   ]
  },
  {
   "cell_type": "markdown",
   "metadata": {},
   "source": [
    "При оптимальном значение *aplha* ошибка на тестовой выборке уменьшается по сравнению с *alpha*, взятым по умолчанию"
   ]
  },
  {
   "cell_type": "markdown",
   "metadata": {},
   "source": [
    "### Оптимальное количество нейронов"
   ]
  },
  {
   "cell_type": "markdown",
   "metadata": {},
   "source": [
    "Будем использовать найденное значение оптимального *alpha* для нейронной сети с 2 скрытыми слоями."
   ]
  },
  {
   "cell_type": "code",
   "execution_count": 57,
   "metadata": {},
   "outputs": [],
   "source": [
    "neuron_arr = (50, 100, 150, 200, 250, 300, 350, 400)\n",
    "test_err = []\n",
    "train_err = []\n",
    "for neuron in neuron_arr:\n",
    "    mlp_model = MLPClassifier(alpha = alpha_opt[0], hidden_layer_sizes = (neuron,neuron), \n",
    "                              solver = 'lbfgs', activation = 'logistic', random_state = 42)\n",
    "    mlp_model.fit(X_train, y_train)\n",
    "\n",
    "    y_train_pred = mlp_model.predict(X_train)\n",
    "    y_test_pred = mlp_model.predict(X_test)\n",
    "    train_err.append(np.mean(y_train != y_train_pred))\n",
    "    test_err.append(np.mean(y_test != y_test_pred))"
   ]
  },
  {
   "cell_type": "markdown",
   "metadata": {},
   "source": [
    "Строим график зависимости количества нейронов в скрытом слое от *alpha* (используем оптимальное значение *alpha*)"
   ]
  },
  {
   "cell_type": "code",
   "execution_count": 58,
   "metadata": {
    "scrolled": false
   },
   "outputs": [
    {
     "data": {
      "image/png": "[encoded data removed]",
      "text/plain": [
       "<Figure size 432x288 with 1 Axes>"
      ]
     },
     "metadata": {},
     "output_type": "display_data"
    }
   ],
   "source": [
    "plt.semilogx(neuron_arr, train_err, 'b-o', label = 'train')\n",
    "plt.semilogx(neuron_arr, test_err, 'r-o', label = 'test')\n",
    "plt.xlim([np.min(neuron_arr), np.max(neuron_arr)])\n",
    "plt.title('Error vs. neurons')\n",
    "plt.xlabel('neurons')\n",
    "plt.ylabel('error')\n",
    "plt.legend()\n",
    "pass"
   ]
  },
  {
   "cell_type": "markdown",
   "metadata": {},
   "source": [
    "Найдем минимальное значение ошибки:"
   ]
  },
  {
   "cell_type": "code",
   "execution_count": 59,
   "metadata": {},
   "outputs": [
    {
     "name": "stdout",
     "output_type": "stream",
     "text": [
      "0.0017857142857142857 0.03333333333333333\n"
     ]
    }
   ],
   "source": [
    "min_train_err = np.min(train_err)\n",
    "min_test_err = np.min(test_err)\n",
    "print(min_train_err, min_test_err)"
   ]
  },
  {
   "cell_type": "markdown",
   "metadata": {},
   "source": [
    "Наблюдаем, что наименьшая ошибка получается при 300 нейронов"
   ]
  },
  {
   "cell_type": "markdown",
   "metadata": {},
   "source": [
    "### Классификатор при оптимальном значении *alpha* и количестве нейронов"
   ]
  },
  {
   "cell_type": "code",
   "execution_count": 60,
   "metadata": {},
   "outputs": [
    {
     "name": "stdout",
     "output_type": "stream",
     "text": [
      "0.0125\n",
      "0.03333333333333333\n"
     ]
    }
   ],
   "source": [
    "mlp_model = MLPClassifier(alpha = alpha_opt[0], hidden_layer_sizes = (300,300),\n",
    "                          solver = 'lbfgs', activation = 'logistic', random_state = 42)\n",
    "mlp_model.fit(X_train, y_train)\n",
    "\n",
    "y_train_pred = mlp_model.predict(X_train)\n",
    "y_test_pred = mlp_model.predict(X_test)\n",
    "print(np.mean(y_train != y_train_pred))\n",
    "print(np.mean(y_test != y_test_pred))"
   ]
  },
  {
   "cell_type": "markdown",
   "metadata": {},
   "source": [
    "### Матрица рассогласования:"
   ]
  },
  {
   "cell_type": "code",
   "execution_count": 61,
   "metadata": {},
   "outputs": [
    {
     "name": "stdout",
     "output_type": "stream",
     "text": [
      "[[219   2]\n",
      " [  6  13]]\n"
     ]
    }
   ],
   "source": [
    "from sklearn.metrics import confusion_matrix\n",
    "print(confusion_matrix(y_test_pred, y_test))"
   ]
  },
  {
   "cell_type": "code",
   "execution_count": 62,
   "metadata": {},
   "outputs": [
    {
     "data": {
      "image/png": "[encoded data removed]",
      "text/plain": [
       "<Figure size 432x288 with 2 Axes>"
      ]
     },
     "metadata": {},
     "output_type": "display_data"
    }
   ],
   "source": [
    "M = confusion_matrix(y_test_pred, y_test)\n",
    "M = np.sqrt(M)\n",
    "plt.imshow(M, interpolation = 'nearest')\n",
    "plt.set_cmap('binary')\n",
    "plt.xticks(range(2))\n",
    "plt.yticks(range(2))\n",
    "plt.xlabel(\"true label\")\n",
    "plt.ylabel(\"predicted label\")\n",
    "plt.colorbar()\n",
    "pass"
   ]
  },
  {
   "cell_type": "markdown",
   "metadata": {},
   "source": [
    "### Другие метрики качества"
   ]
  },
  {
   "cell_type": "code",
   "execution_count": 63,
   "metadata": {},
   "outputs": [
    {
     "name": "stdout",
     "output_type": "stream",
     "text": [
      "             precision    recall  f1-score   support\n",
      "\n",
      "      False       0.99      0.97      0.98       225\n",
      "       True       0.68      0.87      0.76        15\n",
      "\n",
      "avg / total       0.97      0.97      0.97       240\n",
      "\n"
     ]
    }
   ],
   "source": [
    "from sklearn.metrics import classification_report\n",
    "print(classification_report(y_test, y_test_pred))"
   ]
  },
  {
   "cell_type": "markdown",
   "metadata": {},
   "source": [
    "#### Все ошибки"
   ]
  },
  {
   "cell_type": "code",
   "execution_count": 64,
   "metadata": {},
   "outputs": [
    {
     "name": "stdout",
     "output_type": "stream",
     "text": [
      "Количество ошибок: 8\n",
      "Размер тестовой выборки: 240\n"
     ]
    }
   ],
   "source": [
    "count = 0\n",
    "for i in X_test.index:\n",
    "    x = X_test.loc[i, :]\n",
    "    dig = y_test[i]\n",
    "    dig_pred = mlp_model.predict([x])\n",
    "    if dig_pred != dig:\n",
    "        count += 1\n",
    "print(\"Количество ошибок: \"+ str(count))\n",
    "print(\"Размер тестовой выборки: \" + str(len(X_test)))"
   ]
  },
  {
   "cell_type": "markdown",
   "metadata": {},
   "source": [
    "# ДЗ №3"
   ]
  },
  {
   "cell_type": "markdown",
   "metadata": {},
   "source": [
    "Задача: провести классификацию покемонов на предмет легендарности"
   ]
  },
  {
   "cell_type": "markdown",
   "metadata": {},
   "source": [
    "## Random Forest"
   ]
  },
  {
   "cell_type": "markdown",
   "metadata": {},
   "source": [
    "Решаем поставленную задачу с помощью Random Forest"
   ]
  },
  {
   "cell_type": "markdown",
   "metadata": {},
   "source": [
    "Проведем разбиение данных на обучающую и тестовую выборки:"
   ]
  },
  {
   "cell_type": "code",
   "execution_count": 65,
   "metadata": {},
   "outputs": [
    {
     "name": "stdout",
     "output_type": "stream",
     "text": [
      "560 240\n"
     ]
    }
   ],
   "source": [
    "from sklearn.model_selection import train_test_split\n",
    "X_train, X_test, y_train, y_test = train_test_split(X, y, test_size = 0.3, random_state = 7)\n",
    "N_test, _ = X_test.shape\n",
    "N_train, _ = X_train.shape \n",
    "\n",
    "print(N_train, N_test)"
   ]
  },
  {
   "cell_type": "markdown",
   "metadata": {},
   "source": [
    "Обучим классификатор вида Random Forest. Число деревьев = 100"
   ]
  },
  {
   "cell_type": "code",
   "execution_count": 66,
   "metadata": {},
   "outputs": [
    {
     "data": {
      "text/plain": [
       "RandomForestClassifier(bootstrap=True, class_weight=None, criterion='gini',\n",
       "            max_depth=None, max_features='auto', max_leaf_nodes=None,\n",
       "            min_impurity_decrease=0.0, min_impurity_split=None,\n",
       "            min_samples_leaf=1, min_samples_split=2,\n",
       "            min_weight_fraction_leaf=0.0, n_estimators=100, n_jobs=1,\n",
       "            oob_score=False, random_state=None, verbose=0,\n",
       "            warm_start=False)"
      ]
     },
     "execution_count": 66,
     "metadata": {},
     "output_type": "execute_result"
    }
   ],
   "source": [
    "from sklearn import ensemble\n",
    "rf = ensemble.RandomForestClassifier(n_estimators = 100)\n",
    "rf.fit(X_train, y_train)"
   ]
  },
  {
   "cell_type": "code",
   "execution_count": 67,
   "metadata": {},
   "outputs": [
    {
     "name": "stdout",
     "output_type": "stream",
     "text": [
      "0.0 0.0625\n"
     ]
    }
   ],
   "source": [
    "y_train_pred = rf.predict(X_train)\n",
    "y_test_pred = rf.predict(X_test)\n",
    "print(np.mean(y_train != y_train_pred), np.mean(y_test != y_test_pred))"
   ]
  },
  {
   "cell_type": "markdown",
   "metadata": {},
   "source": [
    "\n",
    "Ошибка на обучающей выборке меньше, чем на тестовой, следовательно имеет место переобучение.\n",
    "\n",
    "Построим график зависимости ошибок (ошибка на обучающей выборке + ошибка на тестовой выборке + oob-ошибка) от количества деревьев"
   ]
  },
  {
   "cell_type": "code",
   "execution_count": 72,
   "metadata": {},
   "outputs": [],
   "source": [
    "trees_arr = np.arange(50, 155, 5)\n",
    "test_err = []\n",
    "train_err = []\n",
    "oob_err = []\n",
    "for trees in trees_arr:\n",
    "    rf = ensemble.RandomForestClassifier(n_estimators = trees, oob_score=True)\n",
    "    rf.fit(X_train, y_train)\n",
    "    train_err.append(np.mean(y_train != rf.predict(X_train)))\n",
    "    test_err.append(np.mean(y_test  != rf.predict(X_test)))\n",
    "    oob_err.append(1 - rf.oob_score_)"
   ]
  },
  {
   "cell_type": "code",
   "execution_count": 73,
   "metadata": {},
   "outputs": [
    {
     "data": {
      "image/png": "[encoded data removed]",
      "text/plain": [
       "<Figure size 432x288 with 1 Axes>"
      ]
     },
     "metadata": {},
     "output_type": "display_data"
    }
   ],
   "source": [
    "plt.plot(trees_arr, train_err, 'b-o', label = 'train')\n",
    "plt.plot(trees_arr, test_err, 'r-o', label = 'test')\n",
    "plt.plot(trees_arr, oob_err, 'g-o', label = 'oob')\n",
    "plt.xlim([np.max(trees_arr), np.min(trees_arr)])\n",
    "plt.title('Error vs. Trees')\n",
    "plt.xlabel('trees')\n",
    "plt.ylabel('error')\n",
    "plt.legend()\n",
    "pass"
   ]
  },
  {
   "cell_type": "code",
   "execution_count": 74,
   "metadata": {},
   "outputs": [
    {
     "name": "stdout",
     "output_type": "stream",
     "text": [
      "[ 50  55  60  65  70  75  80  85  90  95 100 105 110 115 120 125 130 135\n",
      " 140 145 150]\n"
     ]
    }
   ],
   "source": [
    "print(trees_arr)"
   ]
  },
  {
   "cell_type": "markdown",
   "metadata": {},
   "source": [
    "При любом количестве деревьев (на всем экспериментальном множестве: 50-150 деревьев) имеет место переобучение. Из графика видно, что наименьшие ошибки на обучающей и тестовой выборке наблюдаем при количестве деревьев = 105, 110, 115. При этих значениях минимум obb-ошибки достигается при количестве деревьев = 110."
   ]
  },
  {
   "cell_type": "markdown",
   "metadata": {},
   "source": [
    "Минимальное значение ошибки:"
   ]
  },
  {
   "cell_type": "code",
   "execution_count": 75,
   "metadata": {},
   "outputs": [
    {
     "name": "stdout",
     "output_type": "stream",
     "text": [
      "0.0 0.0625\n"
     ]
    }
   ],
   "source": [
    "\n",
    "min_train_err = np.min(train_err)\n",
    "min_test_err = np.min(test_err)\n",
    "print(min_train_err, min_test_err)"
   ]
  },
  {
   "cell_type": "markdown",
   "metadata": {},
   "source": [
    "Оптимальное количество деревьев"
   ]
  },
  {
   "cell_type": "code",
   "execution_count": 76,
   "metadata": {},
   "outputs": [
    {
     "name": "stdout",
     "output_type": "stream",
     "text": [
      "[105 110 115]\n"
     ]
    }
   ],
   "source": [
    "trees_opt = trees_arr[test_err == min_test_err]\n",
    "print(trees_opt)"
   ]
  },
  {
   "cell_type": "code",
   "execution_count": 77,
   "metadata": {},
   "outputs": [],
   "source": [
    "trees_opt = trees_opt[0]"
   ]
  },
  {
   "cell_type": "markdown",
   "metadata": {},
   "source": [
    "## Extremely Random Forest"
   ]
  },
  {
   "cell_type": "markdown",
   "metadata": {},
   "source": [
    "Решаем поставленную задачу с помощью Extremely Random Forest."
   ]
  },
  {
   "cell_type": "markdown",
   "metadata": {},
   "source": [
    "Проведем разбиение данных на обучающую и тестовую выборки:"
   ]
  },
  {
   "cell_type": "code",
   "execution_count": 78,
   "metadata": {},
   "outputs": [
    {
     "name": "stdout",
     "output_type": "stream",
     "text": [
      "560 240\n"
     ]
    }
   ],
   "source": [
    "from sklearn.model_selection import train_test_split\n",
    "X_train, X_test, y_train, y_test = train_test_split(X, y, test_size = 0.3, random_state = 7)\n",
    "N_test, _ = X_test.shape\n",
    "N_train, _ = X_train.shape \n",
    "\n",
    "print(N_train, N_test)"
   ]
  },
  {
   "cell_type": "markdown",
   "metadata": {},
   "source": [
    "Обучим классификатор вида Extremely Random Forest:"
   ]
  },
  {
   "cell_type": "code",
   "execution_count": 79,
   "metadata": {},
   "outputs": [
    {
     "data": {
      "text/plain": [
       "ExtraTreesClassifier(bootstrap=False, class_weight=None, criterion='gini',\n",
       "           max_depth=None, max_features='auto', max_leaf_nodes=None,\n",
       "           min_impurity_decrease=0.0, min_impurity_split=None,\n",
       "           min_samples_leaf=1, min_samples_split=2,\n",
       "           min_weight_fraction_leaf=0.0, n_estimators=100, n_jobs=1,\n",
       "           oob_score=False, random_state=None, verbose=0, warm_start=False)"
      ]
     },
     "execution_count": 79,
     "metadata": {},
     "output_type": "execute_result"
    }
   ],
   "source": [
    "ert = ensemble.ExtraTreesClassifier(n_estimators = 100)\n",
    "ert.fit(X_train, y_train)"
   ]
  },
  {
   "cell_type": "markdown",
   "metadata": {},
   "source": [
    "Ошибки на обучающей и тестовой выборках:"
   ]
  },
  {
   "cell_type": "code",
   "execution_count": 80,
   "metadata": {},
   "outputs": [
    {
     "name": "stdout",
     "output_type": "stream",
     "text": [
      "0.0 0.07083333333333333\n"
     ]
    }
   ],
   "source": [
    "y_train_pred = ert.predict(X_train)\n",
    "y_test_pred = ert.predict(X_test)\n",
    "print(np.mean(y_train != y_train_pred), np.mean(y_test != y_test_pred))"
   ]
  },
  {
   "cell_type": "markdown",
   "metadata": {},
   "source": [
    "Ошибка на обучающей выборке меньше, чем на тестовой, следовательно имеет место переобучение.\n",
    "\n",
    "Построим график зависимости ошибок (ошибка на обучающей выборке + ошибка на тестовой выборке + oob-ошибка) от количества деревьев"
   ]
  },
  {
   "cell_type": "code",
   "execution_count": 81,
   "metadata": {},
   "outputs": [],
   "source": [
    "trees_arr = np.arange(50, 155, 5)\n",
    "test_err = []\n",
    "train_err = []\n",
    "oob_err = []\n",
    "for trees in trees_arr:\n",
    "    ert = ensemble.ExtraTreesClassifier(n_estimators = trees, oob_score=True, bootstrap=True)\n",
    "    ert.fit(X_train, y_train)\n",
    "    train_err.append(np.mean(y_train != ert.predict(X_train)))\n",
    "    test_err.append(np.mean(y_test  != ert.predict(X_test)))\n",
    "    oob_err.append(1 - ert.oob_score_)"
   ]
  },
  {
   "cell_type": "code",
   "execution_count": 82,
   "metadata": {},
   "outputs": [
    {
     "data": {
      "image/png": "[encoded data removed]",
      "text/plain": [
       "<Figure size 432x288 with 1 Axes>"
      ]
     },
     "metadata": {},
     "output_type": "display_data"
    }
   ],
   "source": [
    "plt.plot(trees_arr, train_err, 'b-o', label = 'train')\n",
    "plt.plot(trees_arr, test_err, 'r-o', label = 'test')\n",
    "plt.plot(trees_arr, oob_err, 'g-o', label = 'oob')\n",
    "plt.xlim([np.max(trees_arr), np.min(trees_arr)])\n",
    "plt.title('Error vs. Trees')\n",
    "plt.xlabel('trees')\n",
    "plt.ylabel('error')\n",
    "plt.legend()\n",
    "pass"
   ]
  },
  {
   "cell_type": "code",
   "execution_count": 83,
   "metadata": {},
   "outputs": [
    {
     "name": "stdout",
     "output_type": "stream",
     "text": [
      "[ 50  55  60  65  70  75  80  85  90  95 100 105 110 115 120 125 130 135\n",
      " 140 145 150]\n"
     ]
    }
   ],
   "source": [
    "print(trees_arr)"
   ]
  },
  {
   "cell_type": "markdown",
   "metadata": {},
   "source": [
    "При любом количестве деревьев (на всем экспериментальном множестве: 50-150 деревьев) имеет место переобучение. Из графика видно, что при количестве деревьев = 50, 65, 70, 110, 115 ошибка на тестовой выборке достигает своего минимума. При этих значениях минимум obb-ошибки достигается при количестве деревьев = 110."
   ]
  },
  {
   "cell_type": "markdown",
   "metadata": {},
   "source": [
    "Минимальное значение ошибки:"
   ]
  },
  {
   "cell_type": "code",
   "execution_count": 84,
   "metadata": {},
   "outputs": [
    {
     "name": "stdout",
     "output_type": "stream",
     "text": [
      "0.0 0.0625\n"
     ]
    }
   ],
   "source": [
    "min_train_err = np.min(train_err)\n",
    "min_test_err = np.min(test_err)\n",
    "print(min_train_err, min_test_err)"
   ]
  },
  {
   "cell_type": "markdown",
   "metadata": {},
   "source": [
    "Оптимальное количество деревьев:"
   ]
  },
  {
   "cell_type": "code",
   "execution_count": 85,
   "metadata": {},
   "outputs": [
    {
     "name": "stdout",
     "output_type": "stream",
     "text": [
      "[110 115]\n"
     ]
    }
   ],
   "source": [
    "trees_opt = trees_arr[test_err == min_test_err]\n",
    "print(trees_opt)"
   ]
  },
  {
   "cell_type": "code",
   "execution_count": 86,
   "metadata": {},
   "outputs": [
    {
     "name": "stdout",
     "output_type": "stream",
     "text": [
      "110\n"
     ]
    }
   ],
   "source": [
    "trees_opt = trees_opt[0]\n",
    "print(trees_opt)"
   ]
  },
  {
   "cell_type": "markdown",
   "metadata": {},
   "source": [
    "## AdaBoost"
   ]
  },
  {
   "cell_type": "markdown",
   "metadata": {},
   "source": [
    "Решаем поставленную задачу с помощью AdaBoost"
   ]
  },
  {
   "cell_type": "markdown",
   "metadata": {},
   "source": [
    "Проведем разбиение данных на обучающую и тестовую выборки:"
   ]
  },
  {
   "cell_type": "code",
   "execution_count": 87,
   "metadata": {},
   "outputs": [
    {
     "name": "stdout",
     "output_type": "stream",
     "text": [
      "560 240\n"
     ]
    }
   ],
   "source": [
    "from sklearn.model_selection import train_test_split\n",
    "X_train, X_test, y_train, y_test = train_test_split(X, y, test_size = 0.3, random_state = 7)\n",
    "N_test, _ = X_test.shape\n",
    "N_train, _ = X_train.shape \n",
    "\n",
    "print(N_train, N_test)"
   ]
  },
  {
   "cell_type": "markdown",
   "metadata": {},
   "source": [
    "Обучим классификатор вида AdaBoost"
   ]
  },
  {
   "cell_type": "code",
   "execution_count": 88,
   "metadata": {},
   "outputs": [
    {
     "data": {
      "text/plain": [
       "AdaBoostClassifier(algorithm='SAMME.R', base_estimator=None,\n",
       "          learning_rate=1.0, n_estimators=100, random_state=None)"
      ]
     },
     "execution_count": 88,
     "metadata": {},
     "output_type": "execute_result"
    }
   ],
   "source": [
    "ab = ensemble.AdaBoostClassifier(n_estimators = 100)\n",
    "ab.fit(X_train, y_train)"
   ]
  },
  {
   "cell_type": "markdown",
   "metadata": {},
   "source": [
    "Ошибки на обучающей и тестовой выборках:"
   ]
  },
  {
   "cell_type": "code",
   "execution_count": 89,
   "metadata": {},
   "outputs": [
    {
     "name": "stdout",
     "output_type": "stream",
     "text": [
      "0.0 0.075\n"
     ]
    }
   ],
   "source": [
    "y_train_pred = ab.predict(X_train)\n",
    "y_test_pred = ab.predict(X_test)\n",
    "print(np.mean(y_train != y_train_pred), np.mean(y_test != y_test_pred))"
   ]
  },
  {
   "cell_type": "markdown",
   "metadata": {},
   "source": [
    "Ошибка на обучающей выборке меньше, чем на тестовой, следовательно имеет место переобучение.\n",
    "\n",
    "Построим график зависимости ошибок (ошибка на обучающей выборке + ошибка на тестовой выборке) от количества деревьев"
   ]
  },
  {
   "cell_type": "code",
   "execution_count": 90,
   "metadata": {},
   "outputs": [],
   "source": [
    "trees_arr = np.arange(50, 155, 5)\n",
    "test_err = []\n",
    "train_err = []\n",
    "for trees in trees_arr:\n",
    "    ab = ensemble.AdaBoostClassifier(n_estimators = trees)\n",
    "    ab.fit(X_train, y_train)\n",
    "    train_err.append(np.mean(y_train != ab.predict(X_train)))\n",
    "    test_err.append(np.mean(y_test  != ab.predict(X_test)))"
   ]
  },
  {
   "cell_type": "code",
   "execution_count": 112,
   "metadata": {},
   "outputs": [
    {
     "data": {
      "image/png": "[encoded data removed]",
      "text/plain": [
       "<Figure size 432x288 with 1 Axes>"
      ]
     },
     "metadata": {},
     "output_type": "display_data"
    }
   ],
   "source": [
    "plt.plot(trees_arr, train_err, 'b-o', label = 'train')\n",
    "plt.plot(trees_arr, test_err, 'r-o', label = 'test')\n",
    "plt.xlim([np.max(trees_arr), np.min(trees_arr)])\n",
    "plt.title('Error vs. Trees')\n",
    "plt.xlabel('trees')\n",
    "plt.ylabel('error')\n",
    "plt.legend()\n",
    "pass"
   ]
  },
  {
   "cell_type": "code",
   "execution_count": 92,
   "metadata": {},
   "outputs": [
    {
     "name": "stdout",
     "output_type": "stream",
     "text": [
      "[ 50  55  60  65  70  75  80  85  90  95 100 105 110 115 120 125 130 135\n",
      " 140 145 150]\n"
     ]
    }
   ],
   "source": [
    "print(trees_arr)"
   ]
  },
  {
   "cell_type": "markdown",
   "metadata": {},
   "source": [
    "При любом количестве деревьев (на всем экспериментальном множестве: 50-150 деревьев) имеет место переобучение. Из графика видно, что при количестве деревьев = 90 ошибка на тестовой выборке достигает своего минимума."
   ]
  },
  {
   "cell_type": "markdown",
   "metadata": {},
   "source": [
    "Минимальное значение ошибки:"
   ]
  },
  {
   "cell_type": "code",
   "execution_count": 93,
   "metadata": {},
   "outputs": [
    {
     "name": "stdout",
     "output_type": "stream",
     "text": [
      "0.0 0.07083333333333333\n"
     ]
    }
   ],
   "source": [
    "min_train_err = np.min(train_err)\n",
    "min_test_err = np.min(test_err)\n",
    "print(min_train_err, min_test_err)"
   ]
  },
  {
   "cell_type": "markdown",
   "metadata": {},
   "source": [
    "Оптимальное количество деревьев:"
   ]
  },
  {
   "cell_type": "code",
   "execution_count": 94,
   "metadata": {},
   "outputs": [
    {
     "name": "stdout",
     "output_type": "stream",
     "text": [
      "[90]\n"
     ]
    }
   ],
   "source": [
    "trees_opt = trees_arr[test_err == min_test_err]\n",
    "print(trees_opt)"
   ]
  },
  {
   "cell_type": "code",
   "execution_count": 95,
   "metadata": {},
   "outputs": [
    {
     "name": "stdout",
     "output_type": "stream",
     "text": [
      "90\n"
     ]
    }
   ],
   "source": [
    "trees_opt = trees_opt[0]\n",
    "print(trees_opt)"
   ]
  },
  {
   "cell_type": "markdown",
   "metadata": {},
   "source": [
    "Оптимальное количество классификаторов = 90"
   ]
  },
  {
   "cell_type": "markdown",
   "metadata": {},
   "source": [
    "## Gradient boosted trees"
   ]
  },
  {
   "cell_type": "markdown",
   "metadata": {},
   "source": [
    "Решаем поставленную задачу с помощью Gradient boosted trees"
   ]
  },
  {
   "cell_type": "markdown",
   "metadata": {},
   "source": [
    "Проведем разбиение данных на обучающую и тестовую выборки:"
   ]
  },
  {
   "cell_type": "code",
   "execution_count": 96,
   "metadata": {},
   "outputs": [
    {
     "name": "stdout",
     "output_type": "stream",
     "text": [
      "560 240\n"
     ]
    }
   ],
   "source": [
    "from sklearn.model_selection import train_test_split\n",
    "X_train, X_test, y_train, y_test = train_test_split(X, y, test_size = 0.3, random_state = 7)\n",
    "N_test, _ = X_test.shape\n",
    "N_train, _ = X_train.shape \n",
    "\n",
    "print(N_train, N_test)"
   ]
  },
  {
   "cell_type": "markdown",
   "metadata": {},
   "source": [
    "Обучим классификатор вида Gradient boosted trees"
   ]
  },
  {
   "cell_type": "code",
   "execution_count": 97,
   "metadata": {},
   "outputs": [
    {
     "data": {
      "text/plain": [
       "GradientBoostingClassifier(criterion='friedman_mse', init=None,\n",
       "              learning_rate=0.1, loss='deviance', max_depth=3,\n",
       "              max_features=None, max_leaf_nodes=None,\n",
       "              min_impurity_decrease=0.0, min_impurity_split=None,\n",
       "              min_samples_leaf=1, min_samples_split=2,\n",
       "              min_weight_fraction_leaf=0.0, n_estimators=100,\n",
       "              presort='auto', random_state=None, subsample=1.0, verbose=0,\n",
       "              warm_start=False)"
      ]
     },
     "execution_count": 97,
     "metadata": {},
     "output_type": "execute_result"
    }
   ],
   "source": [
    "gbt = ensemble.GradientBoostingClassifier(n_estimators = 100)\n",
    "gbt.fit(X_train, y_train)"
   ]
  },
  {
   "cell_type": "code",
   "execution_count": 98,
   "metadata": {},
   "outputs": [
    {
     "name": "stdout",
     "output_type": "stream",
     "text": [
      "0.0 0.07083333333333333\n"
     ]
    }
   ],
   "source": [
    "y_train_pred = gbt.predict(X_train)\n",
    "y_test_pred = gbt.predict(X_test)\n",
    "print(np.mean(y_train != y_train_pred), np.mean(y_test != y_test_pred))"
   ]
  },
  {
   "cell_type": "markdown",
   "metadata": {},
   "source": [
    "Ошибка на обучающей выборке меньше, чем на тестовой, следовательно имеет место переобучение.\n",
    "\n",
    "Построим график зависимости ошибок (ошибка на обучающей выборке + ошибка на тестовой выборке) от количества деревьев"
   ]
  },
  {
   "cell_type": "code",
   "execution_count": 106,
   "metadata": {},
   "outputs": [],
   "source": [
    "trees_arr = np.arange(50, 155, 5)\n",
    "test_err = []\n",
    "train_err = []\n",
    "for trees in trees_arr:\n",
    "    gbt = ensemble.GradientBoostingClassifier(n_estimators = trees)\n",
    "    gbt.fit(X_train, y_train)\n",
    "    train_err.append(np.mean(y_train != gbt.predict(X_train)))\n",
    "    test_err.append(np.mean(y_test  != gbt.predict(X_test)))"
   ]
  },
  {
   "cell_type": "code",
   "execution_count": 107,
   "metadata": {},
   "outputs": [
    {
     "data": {
      "image/png": "[encoded data removed]",
      "text/plain": [
       "<Figure size 432x288 with 1 Axes>"
      ]
     },
     "metadata": {},
     "output_type": "display_data"
    }
   ],
   "source": [
    "plt.plot(trees_arr, train_err, 'b-o', label = 'train')\n",
    "plt.plot(trees_arr, test_err, 'r-o', label = 'test')\n",
    "plt.xlim([np.max(trees_arr), np.min(trees_arr)])\n",
    "plt.title('Error vs. Trees')\n",
    "plt.xlabel('trees')\n",
    "plt.ylabel('error')\n",
    "plt.legend()\n",
    "pass"
   ]
  },
  {
   "cell_type": "code",
   "execution_count": 108,
   "metadata": {},
   "outputs": [
    {
     "name": "stdout",
     "output_type": "stream",
     "text": [
      "[ 50  55  60  65  70  75  80  85  90  95 100 105 110 115 120 125 130 135\n",
      " 140 145 150]\n"
     ]
    }
   ],
   "source": [
    "print(trees_arr)"
   ]
  },
  {
   "cell_type": "markdown",
   "metadata": {},
   "source": [
    "При любом количестве деревьев (на всем экспериментальном множестве: 50-150 деревьев) имеет место переобучение. Из графика видно, что при количестве деревьев = 65, 115, 120, 140 ошибка на тестовой выборке достигает своего минимума."
   ]
  },
  {
   "cell_type": "markdown",
   "metadata": {},
   "source": [
    "Минимальное значение ошибки: "
   ]
  },
  {
   "cell_type": "code",
   "execution_count": 109,
   "metadata": {},
   "outputs": [
    {
     "name": "stdout",
     "output_type": "stream",
     "text": [
      "0.0 0.06666666666666667\n"
     ]
    }
   ],
   "source": [
    "min_train_err = np.min(train_err)\n",
    "min_test_err = np.min(test_err)\n",
    "print(min_train_err, min_test_err)"
   ]
  },
  {
   "cell_type": "code",
   "execution_count": 110,
   "metadata": {},
   "outputs": [
    {
     "name": "stdout",
     "output_type": "stream",
     "text": [
      "[ 65 115 120 140]\n"
     ]
    }
   ],
   "source": [
    "trees_opt = trees_arr[test_err == min_test_err]\n",
    "print(trees_opt)"
   ]
  },
  {
   "cell_type": "code",
   "execution_count": 111,
   "metadata": {},
   "outputs": [
    {
     "name": "stdout",
     "output_type": "stream",
     "text": [
      "65\n"
     ]
    }
   ],
   "source": [
    "trees_opt = trees_opt[0]\n",
    "print(trees_opt)"
   ]
  },
  {
   "cell_type": "markdown",
   "metadata": {},
   "source": [
    "Оптимальное количество деревьев = 65"
   ]
  },
  {
   "cell_type": "code",
   "execution_count": null,
   "metadata": {},
   "outputs": [],
   "source": []
  }
 ],
 "metadata": {
  "kernelspec": {
   "display_name": "Python 3",
   "language": "python",
   "name": "python3"
  },
  "language_info": {
   "codemirror_mode": {
    "name": "ipython",
    "version": 3
   },
   "file_extension": ".py",
   "mimetype": "text/x-python",
   "name": "python",
   "nbconvert_exporter": "python",
   "pygments_lexer": "ipython3",
   "version": "3.6.5"
  }
 },
 "nbformat": 4,
 "nbformat_minor": 2
}
